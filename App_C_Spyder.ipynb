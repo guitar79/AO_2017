{
 "cells": [
  {
   "cell_type": "markdown",
   "metadata": {},
   "source": [
    "# Spyder\n",
    "\n",
    "Spyder has many important and useful functionalities. Because it uses IPython console as its default, it is very convenient to use it as editor and as terminal at the same time. \n",
    "\n"
   ]
  },
  {
   "cell_type": "markdown",
   "metadata": {},
   "source": [
    "## 1. Spyder Shortcuts\n",
    "\n",
    "Go to Tools -> Preferences (`Ctrl+Alt+Shift+P` on Ubuntu). \"Keyboard shortcuts\" list all the useful shortcuts. On Ubuntu, followings are the most important and useful ones:\n",
    "\n",
    "* `F9`: run the line\n",
    "* `ctrl+1`, `ctrl+4`: make comment or comment block. Test it by yourself to see it.\n",
    "* `ctrl+5`: Remove the comment block\n",
    "* `#%%`: (It's not a shortcut) Makes the \"cell\". Use it like this:  \n",
    "    ```python\n",
    "    #%%\n",
    "    # Cell 1\n",
    "    import numpy as np\n",
    "\n",
    "    #%%\n",
    "    # Cell 2\n",
    "    print(np.ones(10))\n",
    "    ```\n",
    "* `ctrl+enter`: Run the cell, remaining at the cell. \n",
    "* `shift+enter`: Run the cell, Proceed to the next cell.\n",
    "* `ctrl+shift+E`: Change the focus to \"editor\" window\n",
    "* `ctrl+shift+I`: Change the focus to \"IPython console\" window\n",
    "\n"
   ]
  },
  {
   "cell_type": "markdown",
   "metadata": {},
   "source": [
    "## 2. Useful Settings\n",
    "\n",
    "It is better to let `matplotlib` plotting window to pop-up (than showing the figure in-line). Go to the Preferences --> IPython Console --> Graphics. Set Graphics backend to \"Automatic\". Turn Spyder off and turn it on again. You will now see a new window pops up when you plot anything, e.g.,\n",
    "\n",
    "```python\n",
    "import maptlotlib.pyplot as plt\n",
    "plt.plot([0,1], [1,1])    \n",
    "```"
   ]
  }
 ],
 "metadata": {
  "kernelspec": {
   "display_name": "Python 3",
   "language": "python",
   "name": "python3"
  },
  "language_info": {
   "codemirror_mode": {
    "name": "ipython",
    "version": 3
   },
   "file_extension": ".py",
   "mimetype": "text/x-python",
   "name": "python",
   "nbconvert_exporter": "python",
   "pygments_lexer": "ipython3",
   "version": "3.6.1"
  }
 },
 "nbformat": 4,
 "nbformat_minor": 2
}
