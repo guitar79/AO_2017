{
 "cells": [
  {
   "cell_type": "markdown",
   "metadata": {},
   "source": [
    "# Cosmic-Ray Rejection\n",
    "\n",
    "This time we will learn how to reject, i.e., erase, the unwanted signals: Cosmic-rays (CR). CR is a loosely defined term in observational astronomy used to describe high energetic particles (or the resulting radiation) originated from extraterrestrial sources. On CCD image, CR appears as a dot, short streak, as shown in the following image (image credit [Tony Hallas](http://astronomy.com/magazine/tony-hallas/2010/07/tony-hallas-cosmic-imaging-getting-clean-images)):\n",
    "\n",
    "![CRexample](http://astronomy.com/-/media/import/images/1/e/e/september-2010-cosmic-rays.jpg?mw=600)\n",
    "\n"
   ]
  },
  {
   "cell_type": "markdown",
   "metadata": {},
   "source": [
    "## 1. Introduction\n",
    "\n",
    "The most widely used algorithm for CR rejection is the L.A.Cosmic by [Peter G. van Dokkum](http://docs.astropy.org/en/stable/io/fits/index.html). It uses the fact that CR has sharp edges and high pixel values, so that they appear differently compared to stellar sources after median filtering. \n",
    "\n",
    "Unfortunately, however, this is very slow in IRAF, especially for larger file size. This is because IRAF does not support multiprocessing, which is useful in many modern computation. I myself have a computer with 8 cores, and IRAF can only use up to 1 core, and 7 others are not working for CR rejection.\n",
    "\n",
    "Curtis McCully has thus developed a C-based, but can be used in Python as if it is a totally-pythonic code, and it is named as [`astroscrappy`](https://github.com/astropy/astroscrappy). It is about 20-40 times faster than pure python codes, and up to about 100 times faster than IRAF implementation. The number can even increase if you use faster algorithms using optional arguments of `astroscrappy`."
   ]
  },
  {
   "cell_type": "markdown",
   "metadata": {},
   "source": [
    "## 2. Download Astroscrappy\n",
    "\n",
    "You can download it via `conda`:\n",
    "\n",
    "     conda install -c astropy astroscrappy=1.0.5 \n",
    "\n",
    "For check, you can turn IPython on and type\n",
    "\n",
    "```python\n",
    "import astroscrappy\n",
    "astroscrappy.test()\n",
    "```"
   ]
  },
  {
   "cell_type": "markdown",
   "metadata": {},
   "source": [
    "## 3. Usage\n",
    "\n",
    "CR can be everywhere. Even on bias image, which should have 0-second exposure, you may see CR, because the instrument cannot have mathematically zero exposure (e.g., 0.001 second). While reading out bias image, a CR may hit CCD pixel and it will appear on bias image. On dark or flat images, which have exposure time of up to about several minutes, CR becomes extremely common. \n",
    "\n",
    "> But do we have to do CR rejection for all the images?\n",
    "\n",
    "No. First of all, it takes too much time. Secondly, if we do median combine to many of the bias, dark, and flat images, CR-hit pixels (the pixels hit by CR) can be *clipped* without applying CR rejection algorithm.\n",
    "\n",
    "For object images, however, all object images may not be identical, so we don't do median combine. That's why we need CR rejection to object images. **You can do CR rejection either before or after preprocessing** (I currently have no firm idea when is the best time to do this, so your opinion is welcomed). It's very simple to do such rejection: import and use.\n",
    "\n",
    "Since the `astroscrappy` has default settings different from classic `L.A.Cosmic`, `ccdproc` has a function which does the classic `L.A.cosmic` by using `astroscrappy`."
   ]
  },
  {
   "cell_type": "code",
   "execution_count": null,
   "metadata": {
    "collapsed": true
   },
   "outputs": [],
   "source": [
    "# UNDER CONSTRUCTION\n",
    "\n",
    "import astroscrappy\n",
    "\n",
    "for objname in filelist:\n",
    "    obj = CCDData.read(objname, unit='adu')\n",
    "    obj_LA = ccdproc.cosmicray_lacosmic(obj)    # classic LAcosmic\n",
    "    obj_LA.write('LA_'+objname, overwrite=True)  \n",
    "    obj_cr = astroscrappy(obj)      # astroscrappy-like\n",
    "    obj_cr.write('cr_'+objname, overwrite=True)\n",
    "    \n",
    "    \n",
    "    "
   ]
  },
  {
   "cell_type": "code",
   "execution_count": null,
   "metadata": {
    "collapsed": true
   },
   "outputs": [],
   "source": []
  }
 ],
 "metadata": {
  "kernelspec": {
   "display_name": "Python 3",
   "language": "python",
   "name": "python3"
  },
  "language_info": {
   "codemirror_mode": {
    "name": "ipython",
    "version": 3
   },
   "file_extension": ".py",
   "mimetype": "text/x-python",
   "name": "python",
   "nbconvert_exporter": "python",
   "pygments_lexer": "ipython3",
   "version": "3.6.1"
  }
 },
 "nbformat": 4,
 "nbformat_minor": 2
}
