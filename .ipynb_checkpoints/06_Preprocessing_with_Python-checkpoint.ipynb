{
 "cells": [
  {
   "cell_type": "markdown",
   "metadata": {},
   "source": [
    "# Preprocessing\n",
    "\n",
    "Now before getting into scientific data analysis, we need **preprocessing**. In IRAF, this was done mainly using `IMCOMBINE` and `IMARITH`. \n",
    "\n",
    "Similarly, we can do it using an [Astropy Affiliated package `ccdproc`](http://ccdproc.readthedocs.io/en/stable/index.html), or you can make your own module. The name of the package `ccdproc` roots in the package `CCDPROC` of IRAF. `ccdproc` of astropy is basically aimed to deal with all (and even more) tasks that can be done using `CCDPROC` in IRAF.\n",
    "\n",
    "As we cannot believe all the packages to work correctly all the time, even this `ccdproc`, I generally recommend to make your own package if you want to do advanced works and rely on as small number of packages as possible (e.g., only numpy, scipy, and astropy core packages).\n",
    "\n",
    "I will demonstrate preprocessing using `spyder` IDE and `ccdproc` package. I also will not use `subprocess` or `os` modules of Python, because \"interactive\" manipulation will be more familiar to people who are used to IRAF. If you are familiar with such modules and want to make one single program which does all the preprocessing at once automatically, you can go ahead! I should encourage such trial.\n",
    "\n",
    "The packages or modules used in this tutorial are\n",
    "\n",
    "* `ccdproc.CCDData`: If you open fits file using \"`astropy.io.fits`\", it will contain header and data, i.e., in an HDUList format. Although this gives much freedom, what we need are only very general data from the HDU: data (pixel values) and unit (ADU). `CCDData` is a class of such thing used in `ccdproc`, and it automatically imports only such *core information* from fits files.\n",
    "* `ccdproc.combine`: Does similar job as `IMCOMBINE` of IRAF.\n",
    "* `ccdproc.ccd_process`: Mainly used when you want to do all preprocessing with one single function. \n",
    "\n",
    "`ccd_process` will be the most frequently used one. If you give image, dark, and bias frame as inputs, there is only one reason you put them: You want a reduced image with dark and bias subtraction! So actually there is no need to explicitly use bias, dark, and flat treating functions one by one. Once bias is specified for `ccd_process`, it will understand you want to subtract bias; once flat is provided, it will do flat fielding. \n",
    "\n",
    "\n",
    "-----"
   ]
  },
  {
   "cell_type": "markdown",
   "metadata": {},
   "source": [
    "## 1. Shell and Python Scripting\n",
    "\n",
    "Using spyder, you can use Python for scripting AND LINUX commands. This is because spyder uses IPython as the default console. You can do the same thing using IPython on terminal, but IPython itself is generally not good for scripting, so I generally recommend spyder. \n",
    "\n",
    "A good point of using spyder as a terminal is that you can easily move from IRAF to Python, especially if you are too familiar with LINUX.\n",
    "\n",
    "For instance, say you have images:\n",
    "\n",
    "    0001.fits    0001b.fits    0001d.fits    0001f.fits\n",
    "    ....\n",
    "    0010.fits    0010b.fits    0010d.fits    0010f.fits\n",
    "\n",
    "where '`b`', '`d`', and '`f`' mean bias, dark, and flat images, respectively. \n",
    "\n",
    "On spyder, you can change the Editor and Console windows by hitting \"`ctrl+shift+e`\" and \"`ctrl+shift+i`\". You don't have to turn the terminal on via \"`ctrl+alt+t`\", but just hit \"`ctrl+shift+i`\" and type like this:\n",
    "\n",
    "```ipython\n",
    "In [1]: mkdir bias\n",
    "In [2]: mv *b.fits bias/\n",
    "In [3]: cd bias/\n",
    "In [4]: ls *.fits > bias.list\n",
    "In [5]: cd ..\n",
    "\n",
    "In [6]: mkdir dark\n",
    "In [7]: mv *d.fits dark/\n",
    "In [8]: cd dark/\n",
    "In [9]: ls *.fits > dark.list\n",
    "In [10]: cd ..\n",
    "\n",
    "In [11]: mkdir flat\n",
    "In [12]: mv *f.fits flat/\n",
    "In [13]: cd flat/\n",
    "In [14]: ls *.fits > flat.list\n",
    "In [15]: cd ..\n",
    "\n",
    "In [16]: mkdir object\n",
    "In [17]: mv *.fits object/\n",
    "In [18]: cd object/\n",
    "In [19]: ls *.fits > object.list\n",
    "In [20]: cat object.list\n",
    "    0001.fits\n",
    "    ....\n",
    "    0010.fits\n",
    "# You can do \"cat bias.list\" to see the contents in \"bias.list\"\n",
    "# See the figure included below.\n",
    "```\n",
    "        \n",
    "Then you have a file '`bias.list`' in the directory '`bias`', with all the 10 bias images, etc. A part of an example:\n",
    "\n",
    "<img src='images/spyder_01.png' width=300>\n",
    "\n",
    "\n",
    "* **TIP**: You now may know, but there are many useful shortcuts in spyder:\n",
    " * `F9`: run the current line (identical to copy the line, paste it on console, and hit enter)\n",
    " * Using \"`#%%`\": making a \"cell\". Spyder will automatically highlight the cell you are in. If you hit `ctrl+enter`,  all the lines in the current cell will be run (same as drag lines and hit `F9`) while the cursor remains the position. If you hit `shift+enter`, the cursor will evolve to the next cell so that you can run the next cell again by hitting `shift+enter`.\n",
    " * `ctrl+1`: Comment the lines you selected. I changed it to `ctrl+/`, which is more widely used such as in `Atom`.\n",
    " * `ctrl+4`: Make a comment box. Try it!\n",
    " \n",
    "-----"
   ]
  },
  {
   "cell_type": "markdown",
   "metadata": {},
   "source": [
    "## 2. Image Combine\n",
    "\n",
    "You now must be familiar with the concept of image combine and the necessasity of it. \n",
    "\n",
    "I will open the `bias.list` file using `NumPy` and median combine the bias images using `ccdproc`:"
   ]
  },
  {
   "cell_type": "code",
   "execution_count": null,
   "metadata": {
    "collapsed": true
   },
   "outputs": [],
   "source": [
    "from ccdproc import combine\n",
    "import numpy as np\n",
    "\n",
    "filelist = np.loadtxt('bias.list', dtype=bytes).astype(str)\n",
    "\n",
    "bias = combine(filelist.tolist(),       # ccdproc does not accept numpy.ndarray, but only python list.\n",
    "               output_file='bias.fits', # I want to save the combined image\n",
    "               method='median',         # default is average so I specified median.\n",
    "               unit='adu')              # unit is required: it's ADU in our case."
   ]
  },
  {
   "cell_type": "markdown",
   "metadata": {},
   "source": [
    "At each line, I put comments. That's it! \n",
    "You succeeded in making a master bias as you did in IRAF by \n",
    "    \n",
    "    imcombine *b.fits bias.fits combine='median'\n",
    "\n",
    "One thing different from IRAF is that you cannot use command like \"`*.fits`\".\n",
    "\n",
    "Of course there are more options like rejection, etc. See the [manual](http://ccdproc.readthedocs.io/en/stable/api/ccdproc.combine.html#ccdproc.combine).\n",
    "\n",
    "-----"
   ]
  },
  {
   "cell_type": "markdown",
   "metadata": {},
   "source": [
    "## 3. Dealing with Dark Current\n",
    "\n",
    "> Although dark current is negligible in many modern optical instruments (only few electrons per pixel per 1 minute), I put this section for educational purpose.\n",
    "\n",
    "> + The observation data you obtained from our observation session are all **dark-subtracted**! See the header of object files.\n",
    "\n",
    "Since dark current is linear function of time (since dark noise is Poisson process), we must make dark image as a function of time. If the dark image for exposure time `t` seconds is `dark(t)`, what we do is like this:\n",
    "\n",
    "    dark(1) = (dark(t) - bias)/t\n",
    "\n",
    "Then if the object image has exposure time of `t'`, we multiply `dark(1)` by `t'` and use it as \"master dark\". Because of this, we need to save the exposure time with dark images.\n",
    "\n",
    "Go to a directory where dark images are in (e.g., `cd ../dark`). \n",
    "\n",
    "I want to do:\n",
    "* median combine all dark frames, save it as \"dark0.fits\"\n",
    "* subtract master bias\n",
    "* 3-sigma clip with 10 iterations \n",
    " * IRAF does 3-sigma with 50 iterations by default.\n",
    "* set the rejected pixel values as the median value\n",
    "* save it as \"dark.fits\"\n",
    "\n",
    "  "
   ]
  },
  {
   "cell_type": "code",
   "execution_count": null,
   "metadata": {
    "collapsed": true
   },
   "outputs": [],
   "source": [
    "import numpy as np\n",
    "from astropy.stats import sigma_clip\n",
    "from ccdproc import CCDData, ccd_process, combine\n",
    "\n",
    "# cd ../dark\n",
    "\n",
    "filelist = np.loadtxt('dark.list', dtype=bytes).astype(str)\n",
    "\n",
    "dark0 = combine(filelist.tolist(),        # ccdproc does not accept numpy.ndarray, but only python list.\n",
    "                output_file='dark0.fits', # I want to save the combined image\n",
    "                method='median',          # default is average so I specified median.\n",
    "                unit='adu')               # unit is required: it's ADU in our case.\n",
    "\n",
    "# This dark isn't bias subtracted yet, so let's subtract bias:               \n",
    "\n",
    "# (1) Open master bias\n",
    "bias = CCDData.read('../bias/bias.fits', unit='adu')\n",
    "# `unit='adu'` does not necessarily be set if you have header keyword for it.\n",
    "\n",
    "# (2) Subtract bias:\n",
    "dark = ccd_process(dark0, master_bias=bias) \n",
    "# This automatically does \"dark-bias\"\n",
    "# You can do it by the function \"subtract_bias\", or just normal pythonic arithmetic.\n",
    "\n",
    "# (3) Sigma clip the dark\n",
    "dark_clip = sigma_clip(dark) \n",
    "# by default, astropy.stats.sigma_clip does \"3-sigma, 10-iterations\" clipping.\n",
    "# You can tune the parameters by optional keywords (e.g., sigma, iters, ...).\n",
    "# dark_clip is \"numpy masked array\". It contains data, mask, and filled_value.\n",
    "# filled_value is the value which is used to fill the data which are masked (rejected).\n",
    "# I will change filled_value to be the median value.\n",
    "\n",
    "# (4) For rejected pixels, insert the median value\n",
    "dark_clip.fill_value = np.median(dark_clip.data) \n",
    "dark.data = dark_clip.filled() # ~.filled() gives the \"data array using filled_value\"\n",
    "\n",
    "# (5) Save\n",
    "dark.write('dark.fits')"
   ]
  },
  {
   "cell_type": "markdown",
   "metadata": {},
   "source": [
    "You may see the following `INFO` message when loading the bias image:\n",
    "\n",
    "    INFO: using the unit adu passed to the FITS reader instead of the unit adu in the FITS file. [ccdproc.ccddata]\n",
    "\n",
    "This is because you are assigning the unit `'adu'` to the FITS file even though the FITS has its own unit (the header keyword `UNIT`). Of course that unit should be ADU, since we have saved the CCDData object in ADU unit.\n",
    "\n",
    "As you can see from the dark image, the value is very small. It's only about less than 10 counts (ADU) per 30 seconds, which means less than 1 ADU per second. In better telescopes, dark is extremely small, so you can safely ignore dark (i.e., assume dark current = 0 adu).\n",
    "\n",
    "-----\n"
   ]
  },
  {
   "cell_type": "markdown",
   "metadata": {},
   "source": [
    "## 3. Dealing with Flat\n",
    "\n",
    "Now we have to subtract bias and dark from flat. Go to the flat directory (e.g., \"`cd ../flat/`). I want to do the followings similar to dark:\n",
    "\n",
    "* median combine all flat frames, save it as \"flat0.fits\"\n",
    "* subtract master bias and dark (dark should be scaled)\n",
    "* save it as \"flat.fits\"\n",
    "\n",
    "Because flat has spatial variation, I cannot replace the rejected pixel values with median of all pixels! It's customary to set a lower limit of pixel value (`min_value`) and replace pixel values smaller than this value: Change pixels smaller than `min_value` to `min_value`. This will be done later, but of course you can do it at this stage if you wish to.\n",
    "\n",
    "As I said in the previous section, dark frame should be \"scaled\" so that it gives correct (estimated) dark current value for given exposure time: `dark(t)/t * t'`. This is automatically done if you set the option \"`dark_scale`\" from the fucntion `ccd_process`.\n"
   ]
  },
  {
   "cell_type": "code",
   "execution_count": null,
   "metadata": {
    "collapsed": true
   },
   "outputs": [],
   "source": [
    "import numpy as np\n",
    "from ccdproc import CCDData, ccd_process, combine\n",
    "import astropy.units as u\n",
    "\n",
    "# cd ../flat\n",
    "\n",
    "filelist = np.loadtxt('flat.list', dtype=bytes).astype(str)\n",
    "\n",
    "flat0 = combine(filelist.tolist(),        # ccdproc does not accept numpy.ndarray, but only python list.\n",
    "                output_file='flat0.fits', # I want to save the combined image\n",
    "                method='median',          # default is average so I specified median.\n",
    "                unit='adu')               # unit is required: it's ADU in our case.\n",
    "\n",
    "#%%\n",
    "# (1) Open master bias and dark\n",
    "bias = CCDData.read('../bias/bias.fits', unit='adu')\n",
    "dark = CCDData.read('../dark/dark.fits', unit='adu')\n",
    "\n",
    "# (2) Subtract bias and dark\n",
    "flat = ccd_process(flat0,                  # The input image (median combined flat)\n",
    "                   master_bias=bias,       # Master bias\n",
    "                   dark_frame=dark,        # dark\n",
    "                   dark_exposure=30 * u.s, # exposure time of dark\n",
    "                   data_exposure=1  * u.s, # exposure time of input image (flat)\n",
    "                   dark_scale=True)        # whether to scale dark frame\n",
    "# (3) Save\n",
    "flat.write('flat.fits')\n"
   ]
  },
  {
   "cell_type": "markdown",
   "metadata": {},
   "source": [
    "But sometimes you may not want to find the exposure times of dark and data frames, because they are all written in the header keyword. Usually people put the exposure time to the header keyword `EXPTIME` (or sometimes `EXPOSURE`). The unit may differ from FITS to FITS, so you should know the unit of it. In our case it is seconds.\n",
    "\n",
    "So the following excerption can do the same process as above, without specifying the exposure times explicitly. The function automatically touches and reads the header information from dark and image, and it extracts the exposure time information:\n",
    "\n",
    "``` python\n",
    "flat = ccd_process(flat0,                  \n",
    "                   master_bias=bias,       \n",
    "                   dark_frame=dark,        \n",
    "                   exposure_key='exptime', # the header keyword for exposure time\n",
    "                   exposure_unit=u.s,      # the unit of exposure time\n",
    "                   dark_scale=True)        \n",
    "```\n",
    "\n",
    "This is much more general and useful, so preferred."
   ]
  },
  {
   "cell_type": "markdown",
   "metadata": {},
   "source": [
    "-----\n",
    "\n",
    "## 4. Reducing Object Images\n",
    "\n",
    "If you have made master bias, dark, and master flat (median combined flat - (bias + dark)), what you can do is simply (object - (bias + dark)) / (master flat). You may usually ignore dark current.\n",
    "\n",
    "But there is second option: ALL AT ONCE using one single function. This is because the preprocessing is straightforward process. If you provide master bias, median combined flat (the file `flat0.fits` in the previous section), dark frame, and object image, the flowchart is clear: make master flat, scale the dark image, and preprocess the image. I will show you how to use this second option:\n"
   ]
  },
  {
   "cell_type": "code",
   "execution_count": null,
   "metadata": {
    "collapsed": true
   },
   "outputs": [],
   "source": [
    "import numpy as np\n",
    "from ccdproc import CCDData, ccd_process, combine\n",
    "import astropy.units as u\n",
    "#%%\n",
    "\n",
    "filelist = np.loadtxt('object.list', dtype=bytes).astype(str)\n",
    "\n",
    "#%%\n",
    "# (1) Open master bias, dark, and flat\n",
    "bias  = CCDData.read('../bias/bias.fits', unit='adu')\n",
    "dark  = CCDData.read('../dark/dark.fits', unit='adu')\n",
    "flat0 = CCDData.read('../flat/flat0.fits', unit='adu') # Bias NOT subtracted\n",
    "\n",
    "# (2) Reduce each object image separately.\n",
    "#     Then save it with prefix 'p_' which means \"preprocessed\"\n",
    "for objname in filelist:\n",
    "    obj = CCDData.read(objname, unit='adu')\n",
    "    reduced = ccd_process(obj,                    # The input image\n",
    "                          master_bias=bias,       # Master bias\n",
    "                          dark_frame=dark,        # dark\n",
    "                          master_flat=flat0,      # non-calibrated flat\n",
    "                          exposure_key='exptime', # exposure time keyword\n",
    "                          exposure_unit=u.s,      # exposure time unit\n",
    "                          dark_scale=True)        # whether to scale dark frame\n",
    "    reduced.write('p_'+objname)\n"
   ]
  },
  {
   "cell_type": "markdown",
   "metadata": {},
   "source": [
    "For comparison, let me show you how the flat fielding changed the result:"
   ]
  },
  {
   "cell_type": "code",
   "execution_count": 9,
   "metadata": {},
   "outputs": [
    {
     "data": {
      "image/png": "images/preproc_flat0",
      "text/plain": [
       "<IPython.core.display.Image object>"
      ]
     },
     "execution_count": 9,
     "metadata": {},
     "output_type": "execute_result"
    }
   ],
   "source": [
    "from IPython.display import Image\n",
    "Image('images/preproc_flat0')"
   ]
  }
 ],
 "metadata": {
  "kernelspec": {
   "display_name": "Python 3",
   "language": "python",
   "name": "python3"
  },
  "language_info": {
   "codemirror_mode": {
    "name": "ipython",
    "version": 3
   },
   "file_extension": ".py",
   "mimetype": "text/x-python",
   "name": "python",
   "nbconvert_exporter": "python",
   "pygments_lexer": "ipython3",
   "version": "3.6.1"
  }
 },
 "nbformat": 4,
 "nbformat_minor": 2
}
