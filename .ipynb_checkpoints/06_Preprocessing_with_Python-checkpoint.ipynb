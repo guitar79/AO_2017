{
 "cells": [
  {
   "cell_type": "markdown",
   "metadata": {},
   "source": [
    "# Preprocessing\n",
    "\n",
    "Now before getting into scientific data analysis, we need **preprocessing**. In IRAF, this was done mainly using `IMCOMBINE` and `IMARITH`. \n",
    "\n",
    "Similarly, we can do it using an [Astropy Affiliated package `ccdproc`](http://ccdproc.readthedocs.io/en/stable/index.html), or you can make your own module. \n",
    "\n",
    "I will demonstrate preprocessing using `spyder` IDE and `ccdproc` package. \n",
    "\n",
    "-----"
   ]
  },
  {
   "cell_type": "markdown",
   "metadata": {},
   "source": [
    "## 1. Shell and Python Scripting\n",
    "\n",
    "Using spyder, you can use Python for scripting AND LINUX commands. This is because spyder uses IPython as the default console. You can do the same thing using IPython on terminal, but IPython itself is generally not good for scripting, so I generally recommend spyder. \n",
    "\n",
    "A good point of using spyder as a terminal is that you can easily move from IRAF to Python, especially if you are too familiar with LINUX.\n",
    "\n",
    "For instance, say you have images:\n",
    "\n",
    "    0001.fits    0001b.fits    0001d.fits    0001f.fits\n",
    "    ....\n",
    "    0010.fits    0010b.fits    0010d.fits    0010f.fits\n",
    "\n",
    "where '`b`', '`d`', '`f`' mean bias, dark, and flat images, respectively. On spyder, you can change the Editor and Console windows by hitting \"`ctrl+shift+e`\" and \"`ctrl+shift+i`\". You don't have to turn the terminal on via \"`ctrl+alt+t`\", but just hit \"`ctrl+shift+i`\" and type like this:\n",
    "\n",
    "    In [1]: mkdir bias\n",
    "    In [2]: mv *b.fits bias/\n",
    "    In [3]: cd bias/\n",
    "    In [4]: ls *.fits > bias.list\n",
    "    In [5]: cd ..\n",
    "    \n",
    "    In [6]: mkdir dark\n",
    "    In [7]: mv *d.fits dark/\n",
    "    In [8]: cd dark/\n",
    "    In [9]: ls *.fits > dark.list\n",
    "    In [10]: cd ..\n",
    "    \n",
    "    In [11]: mkdir flat\n",
    "    In [12]: mv *f.fits flat/\n",
    "    In [13]: cd flat/\n",
    "    In [14]: ls *.fits > flat.list\n",
    "    In [15]: cd ..\n",
    "    \n",
    "    In [16]: mkdir object\n",
    "    In [17]: mv *.fits object/\n",
    "    In [18]: cd object/\n",
    "    In [19]: ls *.fits > object.list\n",
    "    In [20]: cat object.list\n",
    "        0001.fits\n",
    "        ....\n",
    "        0010.fits\n",
    "    # You can do \"cat bias.list\" to see the contents in \"bias.list\"\n",
    "    # See the figure included below.\n",
    "    \n",
    "        \n",
    "Then you have a file '`bias.list`' in the directory '`bias`', with all the 10 bias images, etc. A part of an example:\n",
    "\n",
    "<img src='images/spyder_01.png' width=300>\n",
    "\n",
    "\n",
    "* **TIP**: You now may know, but there are many useful shortcuts in spyder:\n",
    " * `F9`: run the current line (identical to copy the line, paste it on console, and hit enter)\n",
    " * Using \"`#%%`\": making a \"cell\". Spyder will automatically highlight the cell you are in. If you hit `ctrl+enter`,  all the lines in the current cell will be run (same as drag lines and hit `F9`) while the cursor remains the position. If you hit `shift+enter`, the cursor will evolve to the next cell so that you can run the next cell again by hitting `shift+enter`.\n",
    " * `ctrl+1`: Comment the lines you selected. I changed it to `ctrl+/`, which is more widely used such as in `Atom`.\n",
    " * `ctrl+4`: Make a comment box. Try it!\n",
    " \n",
    "-----"
   ]
  },
  {
   "cell_type": "markdown",
   "metadata": {},
   "source": [
    "## 2. Image Combine\n",
    "\n",
    "You now must be familiar with the concept of image combine and the necessasity of it. \n",
    "\n",
    "I will open the `bias.list` file using `NumPy` and median combine the bias images using `ccdproc`:"
   ]
  },
  {
   "cell_type": "code",
   "execution_count": null,
   "metadata": {
    "collapsed": true
   },
   "outputs": [],
   "source": [
    "from ccdproc import combine\n",
    "import numpy as np\n",
    "\n",
    "filelist = np.loadtxt('bias.list', dtype=bytes).astype(str)\n",
    "\n",
    "bias = combine(filelist.tolist(),       # ccdproc does not accept numpy.ndarray, but only python list.\n",
    "               output_file='bias.fits', # I want to save the combined image\n",
    "               method='median',         # default is average so I specified median.\n",
    "               unit='adu')              # unit is required: it's ADU in our case.\n"
   ]
  },
  {
   "cell_type": "markdown",
   "metadata": {},
   "source": [
    "At each line, I put comments. That's it! \n",
    "You succeeded in making a master bias as you did in IRAF by \n",
    "    \n",
    "    imcombine *b.fits bias.fits combine='median'\n",
    "\n",
    "One thing different from IRAF is that you cannot use command like \"`*.fits`\".\n",
    "\n",
    "Of course there are more options like rejection, etc. See the [manual](http://ccdproc.readthedocs.io/en/stable/api/ccdproc.combine.html#ccdproc.combine).\n",
    "\n",
    "-----"
   ]
  },
  {
   "cell_type": "markdown",
   "metadata": {},
   "source": [
    "## 3. Dealing with Dark Current\n",
    "\n",
    "> Although dark current is negligible in many modern optical instruments (only few electrons per pixel per 1 minute), I put this section for educational purpose.\n",
    "\n",
    "Since dark current is linear function of time (since dark noise is Poisson process), we must make dark image as a function of time. If the dark image for exposure time `t` is `dark(t)`, what we do is like this:\n",
    "\n",
    "    dark1 = (dark(t) - bias)/t\n",
    "\n",
    "Then if the object image has exposure time of `t'`, we multiply `dark1` by `t'` and use it as \"master dark\". Because of this, we need to save the exposure time with dark images.\n",
    "\n",
    "Go to a directory where dark images are in (e.g., `cd ../dark`). \n",
    "\n",
    "I want to do:\n",
    "* median combine all dark frames, save it as \"dark0.fits\"\n",
    "* subtract master bias\n",
    "* 3-sigma clip with 10 iterations\n",
    "* set the rejected pixel values as the median value\n",
    "* save it as \"dark.fits\"\n",
    "\n",
    "  "
   ]
  },
  {
   "cell_type": "code",
   "execution_count": null,
   "metadata": {
    "collapsed": true
   },
   "outputs": [],
   "source": [
    "from astropy.stats import sigma_clip\n",
    "from ccdproc import CCDData, ccd_process\n",
    "\n",
    "\n",
    "filelist = np.loadtxt('dark.list', dtype=bytes).astype(str)\n",
    "\n",
    "dark0 = combine(filelist.tolist(),        # ccdproc does not accept numpy.ndarray, but only python list.\n",
    "                output_file='dark0.fits', # I want to save the combined image\n",
    "                method='median',          # default is average so I specified median.\n",
    "                unit='adu')               # unit is required: it's ADU in our case.\n",
    "\n",
    "# This dark isn't bias subtracted yet, so let's subtract bias:               \n",
    "\n",
    "# (1) Open master bias\n",
    "bias = CCDData.read('../bias/bias.fits', unit='adu')\n",
    "\n",
    "# (2) Subtract bias:\n",
    "dark = ccd_process(dark0, master_bias=bias) # automatically does \"dark-bias\"\n",
    "\n",
    "# (3) Sigma clip the dark\n",
    "dark_clip = sigma_clip(dark) \n",
    "# by default, 3-sigma, 10-iterations\n",
    "# dark_clip is \"numpy masked array\". It contains data, mask, and filled_value.\n",
    "# filled_value is the value which is used to fill the data which are masked (rejected).\n",
    "# I will change filled_value to be the median value.\n",
    "\n",
    "# (4) For rejected pixels, insert the median value\n",
    "dark_clip.fill_value = np.median(dark_clip.data) \n",
    "dark.data = dark_clip.filled() # ~.filled() gives the \"data array using filled_value\"\n",
    "\n",
    "# (5) Save\n",
    "dark.write('dark.fits')"
   ]
  },
  {
   "cell_type": "markdown",
   "metadata": {},
   "source": [
    "As you can see from the dark image, the value is very small. In better telescopes, dark is extremely small.\n",
    "\n",
    "-----\n"
   ]
  },
  {
   "cell_type": "markdown",
   "metadata": {},
   "source": [
    "## 3. Dealing with Flat\n",
    "\n",
    "Now we have to subtract bias and dark from flat. Go to the flat directory (e.g., \"`cd ../flat/`). I want to do the followings similar to dark:\n",
    "\n",
    "* median combine all flat frames, save it as \"flat0.fits\"\n",
    "* subtract master bias and dark (using the header keyword \"EXPTIME\")\n",
    "* 3-sigma clip with 10 iterations\n",
    "* set the rejected pixel values as the median value **of nearby pixels**\n",
    "* save it as \"flat.fits\"\n",
    "\n",
    "Because flat has spatial variation, I cannot replace the rejected pixel values with median of all pixels! So I will use the median value of the nearby pixels.\n",
    "\n"
   ]
  }
 ],
 "metadata": {
  "kernelspec": {
   "display_name": "Python 3",
   "language": "python",
   "name": "python3"
  },
  "language_info": {
   "codemirror_mode": {
    "name": "ipython",
    "version": 3
   },
   "file_extension": ".py",
   "mimetype": "text/x-python",
   "name": "python",
   "nbconvert_exporter": "python",
   "pygments_lexer": "ipython3",
   "version": "3.6.1"
  }
 },
 "nbformat": 4,
 "nbformat_minor": 2
}
