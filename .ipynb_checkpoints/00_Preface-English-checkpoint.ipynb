{
 "cells": [
  {
   "cell_type": "markdown",
   "metadata": {},
   "source": [
    "# English Preface\n",
    "\n",
    "These notes were first made for \"Astronomical Observation 1\" (AO1 hereafter) of the Dept. of Astronomy of Seoul National University. \n",
    "\n",
    "* Lecturer: Prof. Masateru Ishiguro\n",
    "* TA: Yoonsoo P. Bach & Na-eun Shin\n",
    "\n",
    "\n",
    "This preface contains some comments to explain ground philosophy while making the lecture notes and the reason for transforming from previous IRAF-based AO1 system to Astropy-based system. \n"
   ]
  },
  {
   "cell_type": "markdown",
   "metadata": {},
   "source": [
    "## Some Technical Terms\n",
    "In the following notes, I will use these words without explaining in detail.\n",
    "\n",
    "* [IRAF](https://en.wikipedia.org/wiki/IRAF): Image Reduction and Analysis Facility\n",
    "* [AURA](https://en.wikipedia.org/wiki/Association_of_Universities_for_Research_in_Astronomy): Association of Universities for Research in Astronomy. A consortium of universities in the U.S., and has observatories such as NOAO, STScI, NSO.\n",
    "* [NOAO](https://en.wikipedia.org/wiki/National_Optical_Astronomy_Observatory): National Optical Astronomy Observatory. Develops and distributes IRAF.\n",
    "* [STScI](https://en.wikipedia.org/wiki/Space_Telescope_Science_Institute): Space Telescope Science Institute. Now taking the role in developing PyRAF and Astropy to replace IRAF.\n",
    "* [PyRAF](http://www.stsci.edu/institute/software_hardware/pyraf): IRAF based on Python language. Made to complement some shorts of IRAF.\n",
    "* CL (Command Language): The programming language used in IRAF. IRAF itself is made by C language, and CL is used to realize some functionalities of IRAF and make scripts/codes. PyRAF is developed basically to overcome some limitations of this CL as a programming language.\n",
    "* [Astropy](https://en.wikipedia.org/wiki/Astropy): The *name of a project* dreaming for making a single core package that is useful for any astrnomical studies. Not only to reproduce all the functionalities of IRAF, but to make it easier to develop original codes for any purpose.\n",
    "* [IDL](https://en.wikipedia.org/wiki/IDL_(programming_language)): Interactive Data Language. A *commercial software* widely used in astronomy and bio-imaging fileds. There is a critical problem in license issue."
   ]
  },
  {
   "cell_type": "markdown",
   "metadata": {},
   "source": [
    "## Choosing Software and Programming Language\n",
    "\n",
    "### Problems of IRAF\n",
    "For decades, IRAF of NOAO has become a virtual standard of astronomical image reduction process. As any other tools, it also have had some problems, and I want to point out two of them. The most important problem is that “required” updates of IRAF may not be there after version 2.16.1, at least officially, and **STScI is now decreasing humanpower to IRAF development / maintanance**. In other words, we cannot hope it to be fixed / updated even if there is serious bug or problem, and few such problems are there, though they are documented thoroughly by STScI. Even though such serious problems may be alleviated in the future, it is almost hopeless to “optimize” IRAF. There are a plethora of different ideas and algorithms to make computation faster, and are still being studied by frontier computer scientists, yet they may not be implemented to IRAF. This is critical, considering one single astronomical image is now becoming size of giga-bytes. My favorite example is [L.A. Cosmic](http://www.astro.yale.edu/dokkum/lacosmic/), which is a tool for removing cosmic-rays from astronomical images. We have both IRAF and Python versions (Python versions from `astroscrappy` actually uses C++, though it is fully usable on Python), and the Python version is order of magnitude faster than that of IRAF version. It can be up to ~100+ times faster, not only because it works efficiently, but also because IRAF does not support parallel computing. The amount of data we have to analyze increases exponentially over time. LSST, which will survey all-sky with a depth of Subaru, or JWST, which is next-generation-HST, decided to use Python against IRAF. \n",
    "\n",
    "Second problem of IRAF is because it is an **old** software, i.e., a problem that any other programs may have if they were developed decades ago, and it include:\n",
    "\n",
    "* Works only on 32-bit environment\n",
    " * We need some trick to run IRAF on modern-standard, 64-bit, computers.\n",
    " * This treatment is required almost only for IRAF. Almost none of modern softwares require 32-bit environment.\n",
    "* Works only on UNIX-based OS\n",
    " * It is bothersome for majority of Windows computer users to have redundant LINUX computer for IRAF purpose, unless MS supports UNIX-like environment in the very near future.\n",
    "* CL has no debug functionality, so it is bad for large programming.\n",
    " * Each observatory needs its own software for data reduction. CL is not good for such purpose.\n",
    " * Actually, many different observatories makes their own routines with IDL, not CL, and distribute it to the observers.\n"
   ]
  },
  {
   "cell_type": "markdown",
   "metadata": {},
   "source": [
    "### Introduction of PyRAF and Its Problems\n",
    "PyRAF is an alternative, made of Python, for those problems of IRAF, especially to alleviate the complexity / debugging problem of CL. According to this [Link](http://iraf.net/forum/viewtopic.php?showtopic=97713&lastpost=true), the attempt to replace CL by Python has been ongoing in 1999. This [report](https://arxiv.org/abs/1610.03159) says such attempt for using Python started in 1998. Before 2000, when PyRAF was first being made, is the time when IRAF was not even a free software, so using totally-free Python is a very attractive trial. PyRAF works on Windows, too, though has many problems, since some functionalities are designed only for UNIX system *from the beginning*, and it is also clearly noted by STScI.\n",
    "\n",
    "This PyRAF has some problems, of course. First of all, **identical CL script gives different results in PyRAF for some cases**. This is implicitly explained in [PyRAF Tutorial](http://stsdas.stsci.edu/pyraf/doc.old/pyraf_tutorial/PythonPrereq.html), too: *\"You can even run more than 90% of IRAF CL scripts!\" (in PyRAF)*. In different perspective, it means ~ 10% of CL scripts does not work identically compared to that of IRAF. So if you have CL scripts you made when you were using IRAF, you wouldn't want to take risks of using PyRAF. You don't know which part will give different result from the original IRAF! No warning system of indicating the difference between IRAF and PyRAF is developed, so you have to run the script on IRAF and check whether it works correctly on PyRAF, which is just bothersome and inefficient.\n",
    "\n",
    "Other than that, PyRAF was made in Python 2, which means it may have unknown problem in the future (because of the backward-incompatible Python 3). Even if we clearly picked the bug, there is no much budget and humanpower to correct it now. Also, unlike many other Python packages, it has no firm manual, which makes it difficult to start and use efficiently. You wouldn't want to move to PyRAF, which doesn't seem to be *much* better than CL scripting. One of the important issues of PyRAF is the same as that of IRAF: No big update will be made in the near future, though we have many known bugs. It is difficult to manually check how much budget and human resources are being used for PyRAF, but you can compare the frequency of update of PyRAF and Astropy. Although PyRAF is being updated with certain period, we are not sure how long will it be maintained. Lim Pey-Lian, at Science Software Branch of STScI, replied to me via the official help email account that :\n",
    "\n",
    "\"We are phasing out our IRAF support. Could you please try out photutils, a Python replacement for photometry tasks ...\" \n"
   ]
  },
  {
   "cell_type": "markdown",
   "metadata": {},
   "source": [
    "### Introduction of IDL and Its Problems\n",
    "These are logical reasons why many people seek for IRAF-alternatives. **One of such solutions is IDL**. Easier scripting, OS-independency, and the fact that is maintained by software experts made astronomers relieved and rely on this software. However, IDL also has some problems: The most important one is the **license issue**, and secondly the problem as a programming language (see [here](https://en.wikipedia.org/wiki/IDL_(programming_language)#Problems)). Also it is extremely slow in plotting graphs, especially 3-D plotting, because it is a procedural programming language. Another important issue is that it is used by very minor groups of people, astronomy and bio-imaging, so there is not many structured manuals we can access.\n",
    "\n",
    "License is very critical for users, not only because its price (~ $1,000), but because you have to purchase license at **each time** when there is an update. You cannot use IDL 8.1 even if you have license of IDL 8.0. Institutions will be burdened with this, since many researchers should use the software, and the amount of required budget will go up almost linearly. If the institution does not support lisence fee, the compatibility problem arises: Say you have source code written in IDL 8, but the institution has license of IDL 7 only. Nevertheless, it is widely being used at observatories and institutions, due to its convenience for scripting compared to IRAF.\n",
    "\n",
    "The following is some examples of IRAF and IDL usage:\n",
    "\n",
    "* NASA IRTF: You will get IDL source codes to analyze SpeX (spectroscopy observation instrument) from IRTF.\n",
    "* Nayoro Pirka, Japan: One of few cases of using IRAF. If you use MSI (multi spectroscopy imager), you will use MSIRED package, which are written fully in IRAF CL.\n",
    "* Subaru: If you used FOCAS of Subaru at Hawai'i, you will receive FOCASRED package, which you may use either IDL or IRAF (recommended to use both).\n"
   ]
  },
  {
   "cell_type": "markdown",
   "metadata": {},
   "source": [
    "### 대안으로서의 Python\n",
    "\n",
    "사실 정말 똑똑한 사람이라면 그냥 머릿속으로 binary 코드를 만들어서 (11000101011101000010101101....) 돌리는 것이 가장 빠릅니다. 2011년 제가 학부생이던 시절 의무과목이었던 Introduction to Programming 과목의 한 교수님께서 자신이 미국에서 공부하던 때의 일화를 들려주시던 때가 생각납니다. \"I had a friend who believes it is the best way to make all the programs in binary from the beginning. But the thing is, not everyone is as smart as she does.\" 그 다음으로는 C를 비롯한 저급 언어들 (low-level languages)을 사용하는 방법이 있고, 이미 만들어진 IRAF를 적절히 수정하여 훨씬 빠르게 만드는 방법도 있습니다. 하지만 우리는 __대다수의 그렇지 않은 사람__ 들을 생각할 필요가 있습니다. 우리는 우리가 가진 호기심과 궁금증들을 푸는 데에 있어 그들이 미래에 가질 천문학자로서의 역할을 잃을 여유가 없기 때문입니다. \"대다수\"에는 상당히 많은 과학자들도 포함된다는 것은 IRAF가 아직도 전산학계 최전선의 최적화방식을 도입하지 못하고 있다는 점에서 알 수 있습니다.\n",
    "\n",
    "그래서 우리가 차선책으로 선택할 수 있는 방법은 아래와 같은 장점을 가진 언어일 것입니다: \n",
    "* 배우기 쉬우며 코딩하기 쉽고, \n",
    "* 전산학계 최전선의 사람들이 열심히 최적화/안정화의 노력을 기울이고 있어 믿음직하며, \n",
    "* 라이센스 문제가 적고, \n",
    "* OS끼리의 호환이 잘 되며,\n",
    "* 매뉴얼이 잘 갖춰져 있고,\n",
    "* 다양한 패키지들이 믿을 수 있는 수준으로 잘 갖추어져 있으며,\n",
    "* 많은 사람들이 쓰고 있어 매뉴얼에 없는 것도 질답이 빠르게 이루어지는 언어\n",
    "* 추가적으로, 이후 새로 개발될 언어들과도 연결성이 있어서 미래에 대한 투자가 되는 언어\n",
    "\n",
    "__*위의 모든 조건들을 완벽하게 만족하는 언어가 바로 Python입니다.*__ \n",
    "\n",
    "첫 번째는 다시 말해 *좀 더 많은 사람이 개발에 참여하기 쉬운* 언어라는 말과 비슷하고, 두 번째의 경우 결국 *천문학자 외에도 사용하는 언어*라는 말과 비슷할 것으로 생각합니다. CL과 같이 어떤 IDE에도 하이라이팅 기능이 없고 매뉴얼이 난해한 언어를 범인(凡人)이 사용하기는 쉽지 않겠습니다. 세 번째에 있어 Python은 완벽한 무료프로그램이며, 거의 모든 LINUX 배포판에 기본으로 설치되어 있고, 덕분에 라이센스 인증과 같은 복잡한 과정을 거칠 필요가 전혀 없다는 점이 굉장한 장점이 됩니다. 네 번째와 다섯 번째는 Python을 사용한 사람이라면 누구나 동의할 수 밖에 없는 큰 장점입니다. Anaconda라는 플랫폼을 이용하는 경우, Windows에서도 shell을 사용해서 패키지들을 관리하고 업데이트하고 Spyder 라는 IDE를 사용할 수 있습니다. 또한 Python의 매뉴얼은 잘 갖춰져 있기로 유명하죠.\n",
    "\n",
    "여섯 번째는 차차 알아가게 될 NumPy나 SciPy, MatPlotLib과 같은 패키지들을 의미합니다. 수많은 수치 계산과 그래프 플랏에 특화되어있는 툴들입니다. 일곱 번째는 Stack Overflow와 같은 다양한 사이트들에서 충분히 확인하실 수 있습니다. IRAF와는 비교할 수 없는 양의 질답 데이터베이스가 존재하며, 천문학계 이외의 사람들이 충분히 존재하므로 IDL보다도 다양한 내용을 접할 수 있습니다.\n",
    "\n",
    "마지막으로 장차 큰 호응을 얻을 것으로 기대되는 Julia 라는 언어라거나, Jupyter & Markdown이라는 워드프로세서 (이 머릿말도 md로 만들어졌습니다) 및 방대한 양의 데이터를 처리해야하는 미래를 생각할 때 Python은 또한 장점을 갖습니다. Markdown 덕분에 Python이 갖는 장점은 앞으로 조교 강의 노트들을 보시면서 알게 될 것입니다. 요즈음에는 비록 유료이지만 Excel에 Python을 장착하여 훨씬 학술적이고 깔끔한 그래프들을 에러 없이 그려내는 툴도 생겨나고 있습니다. Python이라는 언어를 기반으로 한 발전이 한 고비 꺾이는 데에는 앞으로 한참의 시간이 걸릴 것으로 보입니다. \n",
    "\n",
    "몇몇 천문학자들은 일찍이 이러한 이유에서 Python의 이용을 꿈꿔왔습니다. 그리고 그러한 것이 현재 Astropy 프로젝트로 이어져오고 있습니다. Astropy는 기본적으로 FITS파일의 조작, WCS 등 천문학적 좌표계의 변환과 조작, 천문학에서 주로 사용되는 상수 및 단위계 변환, 측광 및 분광작업 툴, 천문학에서 자주 사용되는 통계 툴, 우주론 관련 계산/변환 툴 등을 포함합니다. 그 외에 Astropy affiliated 패키지라 하여 이미지를 띄우고 분석하는 (기존의 SAO ds9 기능에 IRAF의 IMEXAM 기능이 합해진 형태) Ginga(깅가) 등을 추가로 설치할 수 있습니다. Anaconda라는 플랫폼 위에서 Astropy를 관리하는 경우 업데이트가 매우 용이하고, 버그의 보완이 IRAF에 비교할 수 없이 쉽습니다. 또한 Astropy 자체적으로 아주 깔끔하고 자세한 매뉴얼과 많은 예제들을 제공하고 있습니다.\n",
    "\n",
    "Python을 이용함으로써 생기는 부수적인 장점 중 하나는 바로 대다수의 여러분들께서 새로운 환경에 적응할 능력을 키울 수 있다는 점입니다. 어느 날 갑자기 Python이 낙후된 언어가 되고 새로운 어느 언어가 학계를 잠식한다 하더라도, IRAF와 IDL 및 Python 등 다양한 언어를 함께 배운 여러분들은 어느 환경에도 쉽게 적응할 수 있으리라 생각합니다. 또한 새로 개발될 언어는 분명하게도 Python보다 다루기 쉬우면 쉬웠지 더 어려워지지는 않을 것이기 때문에, 그러한 시기에 다양한 언어들을 사용할 수 있는 여러분들의 가치는 상대적으로 높을 수 밖에 없습니다.\n",
    "\n",
    "그러나 이러한 Python이 아무 문제가 없는 것은 아닙니다. 많이 사용되고 있는 몇 가지 패키지들은 비록 널리 사용되고 잘 작동하는 것으로 생각되지만, 공식적으로는 아직 안정적 배포(stable release)가 되지 않은 경우가 더러 있습니다. Astropy의 핵심 패키지들은 상당히 안정적으로 구동되나, 측광 및 분광 패키지는 아직 0.x 버전입니다. 비록 Astropy 프로젝트 공식 웹사이트에서는 측광 패키지가 안정적인 상태라고 명시해 두고 있지만요."
   ]
  },
  {
   "cell_type": "markdown",
   "metadata": {},
   "source": [
    "## 새로운 체계로의 전환과 예상되는 문제\n",
    "\n",
    "앞서 Python이 사용되게 된 역사적 배경을 간략히 서술했습니다. 이것은 기존 IRAF나 IDL을 이용한 천관실 체계를 바꾸는 것을 생각해볼 이유로 충분히 타당하다는 것을 인지하셨으리라 생각합니다. 제가 새로운 체계로의 전환을 추구하는 기본적인 철학은 간단합니다. 교육은 미래를 대비할 능력을 키우는 것을 하나의 큰 목표로 설정해야 한다고 믿기 때문입니다. \n",
    "\n",
    "이전과 같이 IRAF를 가르치는 것은 당연히 매우 쉽고 안정적일 수 있습니다. 하지만 시간이 감에 따라 환경이 변하고, 모든 학생들이 IRAF만 배운 뒤 나중에 연구자의 길을 선택하고 나서야 Astropy까지 스스로 찾아보고 배우게 만든다면 교육이 비효율적인 것은 아닌지 의심이 갑니다. 최근 서울대학교 전산천문학과 같은 수업들이 Python 체계로 전환중이고, 이 기회에 언어적으로 좀 더 유연한 Python 체계가 서울대학교에 자리잡을 수 있다면 훨씬 좋지 않을까 생각합니다. \n",
    "\n",
    "좀 두려운 것은 IRAF 대 AstroPy 구도에서 아예 언어가 달라짐으로써 거대한 단절이 생길 것이 우려된다는 점입니다. CCD 생겼는데 사진건판 보는 느낌이라기엔 좀 너무하지만 대략 그렇다고 느껴집니다. 일례로 Ginga의 단어는 ds9과 묘하게 다르고 그래서 ds9에 익숙하다면 쉽게 헷갈립니다. 그렇다면 제가 교육의 일부를 맡고 돈을 받는 입장에서 해야할 일은 당연하게도 바뀌어가는 시대에 맞는 교육 체계를 구축하는 데 일조하되, 피교육자들이 이전 세대와의 소통에서 큰 문제가 발생하여 소통에 지나친 비효율과 인력의 손실이 생기지 않도록 하는 것이 아닐까 합니다. 새로운 툴을 배울 학생들 입장에서는 윗세대와 소통이 어려워질테니 불편할지 모릅니다. 그러나 그러한 고통은 cgs로부터 SI체계로의 변환에서도 똑같이 있었지요. 천문학에서 아직도 cgs가 널리 사용되는 데에는 타 분야와의 효율적 소통이 상대적으로 낮은 가중치를 가졌기 때문이라고 생각되는데, 언젠가 이는 큰 불이익이 될지도 모를 일입니다. 추가적으로 제기될 수 있는 문제는, 분명 아주 멀지는 않은 어느 미래에 Astropy나 심지어 Python자체가 과거의 유산이 되어있을지 모른다는 점입니다. 그런데 그 이후가 불투명하다거나 IRAF가 \"역사적 기준(historical standard)\"이라는 이유로 현대의 최전선을 경험할 기회를 충분히 주지 않게 된다면, 미래에 우리 모두가 겪어야 할 세대간 단절은 좀 더 클 것으로 예상되어 더 우려스럽습니다.\n",
    "\n",
    "그렇게 예상하는 이유는 모든 피교육자가 해당 “경험”을 스스로 찾아 할 만큼 훌륭하지 못하기 때문입니다. 제가 대학원 초년생이던 시절, 만약 관측법 수업에 강력한 반감심이 없었다면 저와 같은 학생은 분명 IRAF 외의 것들(PyRAF 등)을 볼 생각조차 하지 못했을 것이 분명합니다. 다른 이유가 아니라 그저 제 실력에 비해 제가 해야하는 다른 일들이 워낙 많아 그것들을 소화하기도 바쁜 와중에 주변의 다른 것을 살필 여유가 없기 때문입니다. 그런 저같은 학생들이 최대한의 발전효율을 내기 위해서는 어느 교육자가 현대적 기술과 지식을 알려줄 필요가 있다고 생각합니다. \n",
    "\n",
    "그렇다고 IRAF/ds9을 가르치지 않는 것이 아닙니다: IDL이나 IRAF/ds9 등이 편하다면 누구든 그 선택은 자유이고 IRAF의 기본적인 조작은 반드시 알아둘 필요가 있습니다. 많은 관측소에서는 아직도 IRAF를 기본으로 사용하고 있으며 (관측 도중 관측이 얼마나 잘 이루어졌는지 즉석에서 체크하도록 컴퓨터가 제공되는데, 이 컴퓨터에서 IRAF를 사용하기 좋게 세팅이 되어있는 경우가 많습니다) 이전 세대와의 소통의 용이성, 역사적 교육이라는 의미에서의 중요성 등 여러 이유가 있겠습니다. 결국 사용 언어의 자율성을 보장하는 동시에 IRAF의 기초 또한 가르치는 것은 새로운 시도가 피교육자들에게 지나친 하중으로 다가오지 않아야하며 급격한 세대간 단절을 피해야 한다는 신념에서 기인합니다. 동시에 매뉴얼의 작성은 그러한 시도가 일회성으로 끝나지 않고, 시간상 연속적이면서 부드럽게 교육방식을 전환하는 것이 필수적이라는 믿음을 근거로 합니다. \n",
    "\n",
    "제게 남겨진 과제는 만약 이러한 시도를 하게 된다면 매뉴얼에 최대한 가독성이 좋으면서 간결하게, 그러나 중요한 내용을 충분하게 담아 그것이 다음번 피교육자 뿐 아니라 후에 조교를 맡을 누군가에게 도움이 되도록 해야한다는 것입니다. 그리고 후에 교육이라는 엄중하고 막대한 책임을 지게 될 어느 조교는 길고 지난한 고뇌와 사전조사와 끊기있는 노력으로 이 새로운 시도를 평가하여야 할 것이고, 그 이후, 앞으로의 역사를 어떻게 써나가야할지를 결정해야 할 것입니다. \n",
    "\n",
    "비록 Astropy라는 새로운 툴을 배운 몇 세대가 그 툴을 사용하는 유일한 세대가 되어 고립될 지라도, 어느 넘어설 수 없는 불이익, 비효율, 내지는 문제점이 존재한다면, 이곳의 모든 매뉴얼은 더 이상 불필요합니다. 그것은 선행 조교가 되어있을 저의 잘못이고, 만약에 있을 그러한 사태로 인한 피해가 최소화되도록 하기 위해서라도 기존의 IRAF/ds9 체계에 대한 교육을 없앨 수 없습니다. 만약 그런 일이 발생한다면 이후의 교육은 이전과 동일한 IRAF/ds9 + IDL 정도의 체계로 다시 돌아가야할 것입니다. 그렇게 되지 않기 위해, 혹은 혹시나 이것이 잘못된 시도가 아닐지 판단하기 위한 저의 노력이 무엇보다 중요하다고 믿습니다.\n",
    "\n",
    "여러분들에게 제공될 올 1년의 시간이 좋은 모습으로 다음 시기에 기억되고 있도록 최선의 노력을 다 하겠으나, 그것이 그렇지 못하게 되었다면 그것은 순전히 저의 잘못이니 여러분들의 냉철한 판단과 비판을 부탁드립니다.\n",
    "\n",
    "\n",
    "\n",
    "2017년 겨울 끝자락, 서울대학교 19동에서\n",
    "박윤수"
   ]
  },
  {
   "cell_type": "code",
   "execution_count": null,
   "metadata": {
    "collapsed": true
   },
   "outputs": [],
   "source": []
  }
 ],
 "metadata": {
  "kernelspec": {
   "display_name": "Python 3",
   "language": "python",
   "name": "python3"
  },
  "language_info": {
   "codemirror_mode": {
    "name": "ipython",
    "version": 3
   },
   "file_extension": ".py",
   "mimetype": "text/x-python",
   "name": "python",
   "nbconvert_exporter": "python",
   "pygments_lexer": "ipython3",
   "version": "3.6.0"
  }
 },
 "nbformat": 4,
 "nbformat_minor": 2
}
