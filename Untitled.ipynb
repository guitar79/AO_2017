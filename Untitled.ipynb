{
 "cells": [
  {
   "cell_type": "markdown",
   "metadata": {},
   "source": [
    "# `photutils` Extended Sources\n",
    "\n",
    "`photutils` basically calculates all necessary parameters for extended sources, including ellipticity, rotation angle, etc.\n",
    "\n",
    "## 1. Very Basics\n",
    "In this section, I will demonstrate:\n",
    "1. Find the threshold value appropriate for source detection by `photutils.detect_thershold`\n",
    "2. Detect sources with that threshold value using `photutils.detect_sources`\n",
    "3. Get their properties using `photutils.source_properties`\n",
    "4. You can play with the result\n",
    "\n",
    "Let me use the [Leo triplet](https://en.wikipedia.org/wiki/Leo_Triplet) image for this tutorial (preprocessed):"
   ]
  },
  {
   "cell_type": "code",
   "execution_count": null,
   "metadata": {
    "collapsed": true
   },
   "outputs": [],
   "source": []
  }
 ],
 "metadata": {
  "kernelspec": {
   "display_name": "Python 3",
   "language": "python",
   "name": "python3"
  },
  "language_info": {
   "codemirror_mode": {
    "name": "ipython",
    "version": 3
   },
   "file_extension": ".py",
   "mimetype": "text/x-python",
   "name": "python",
   "nbconvert_exporter": "python",
   "pygments_lexer": "ipython3",
   "version": "3.6.2"
  }
 },
 "nbformat": 4,
 "nbformat_minor": 2
}
