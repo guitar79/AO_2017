{
 "cells": [
  {
   "cell_type": "markdown",
   "metadata": {},
   "source": [
    "# English Preface\n",
    "\n",
    "These notes were first made for \"Astronomical Observation 1\" (AO1 hereafter) of the Dept. of Astronomy of Seoul National University. \n",
    "\n",
    "* Lecturer: Prof. Masateru Ishiguro\n",
    "* TA: Yoonsoo P. Bach & Na-eun Shin\n",
    "\n",
    "\n",
    "This preface contains some comments to explain ground philosophy while making the lecture notes and the reason for transforming from previous IRAF-based AO1 system to Astropy-based system. \n"
   ]
  },
  {
   "cell_type": "markdown",
   "metadata": {},
   "source": [
    "## Some Technical Terms\n",
    "In the following notes, I will use these words without explaining in detail.\n",
    "\n",
    "* [IRAF](https://en.wikipedia.org/wiki/IRAF): Image Reduction and Analysis Facility\n",
    "* [AURA](https://en.wikipedia.org/wiki/Association_of_Universities_for_Research_in_Astronomy): Association of Universities for Research in Astronomy. A consortium of universities in the U.S., and has observatories such as NOAO, STScI, NSO.\n",
    "* [NOAO](https://en.wikipedia.org/wiki/National_Optical_Astronomy_Observatory): National Optical Astronomy Observatory. Develops and distributes IRAF.\n",
    "* [STScI](https://en.wikipedia.org/wiki/Space_Telescope_Science_Institute): Space Telescope Science Institute. Now taking the role in developing PyRAF and Astropy to replace IRAF.\n",
    "* [PyRAF](http://www.stsci.edu/institute/software_hardware/pyraf): IRAF based on Python language. Made to complement some shorts of IRAF.\n",
    "* CL (Command Language): The programming language used in IRAF. IRAF itself is made by C language, and CL is used to realize some functionalities of IRAF and make scripts/codes. PyRAF is developed basically to overcome some limitations of this CL as a programming language.\n",
    "* [Astropy](https://en.wikipedia.org/wiki/Astropy): The *name of a project* dreaming for making a single core package that is useful for any astrnomical studies. Not only to reproduce all the functionalities of IRAF, but to make it easier to develop original codes for any purpose.\n",
    "* [IDL](https://en.wikipedia.org/wiki/IDL_(programming_language)): Interactive Data Language. A *commercial software* widely used in astronomy and bio-imaging fileds. There is a critical problem in license issue."
   ]
  },
  {
   "cell_type": "markdown",
   "metadata": {},
   "source": [
    "## Choosing Software and Programming Language\n",
    "\n",
    "### Problems of IRAF\n",
    "For decades, IRAF of NOAO has become a virtual standard of astronomical image reduction process. As any other tools, it also have had some problems, and I want to point out two of them. The most important problem is that “required” updates of IRAF may not be there after version 2.16.1, at least officially, and **STScI is now decreasing humanpower to IRAF development / maintanance**. In other words, we cannot hope it to be fixed / updated even if there is serious bug or problem, and few such problems are there, though they are documented thoroughly by STScI. Even though such serious problems may be alleviated in the future, it is almost hopeless to “optimize” IRAF. There are a plethora of different ideas and algorithms to make computation faster, and are still being studied by frontier computer scientists, yet they may not be implemented to IRAF. This is critical, considering one single astronomical image is now becoming size of giga-bytes. My favorite example is [L.A. Cosmic](http://www.astro.yale.edu/dokkum/lacosmic/), which is a tool for removing cosmic-rays from astronomical images. We have both IRAF and Python versions (Python versions from `astroscrappy` actually uses C++, though it is fully usable on Python), and the Python version is order of magnitude faster than that of IRAF version. It can be up to ~100+ times faster, not only because it works efficiently, but also because IRAF does not support parallel computing. The amount of data we have to analyze increases exponentially over time. LSST, which will survey all-sky with a depth of Subaru, or JWST, which is next-generation-HST, decided to use Python against IRAF. \n",
    "\n",
    "Second problem of IRAF is because it is an **old** software, i.e., a problem that any other programs may have if they were developed decades ago, and it include:\n",
    "\n",
    "* Works only on 32-bit environment\n",
    "\n",
    " * We need some trick to run IRAF on modern-standard, 64-bit, computers.\n",
    "\n",
    " * This treatment is required almost only for IRAF. Almost none of modern softwares require 32-bit environment.\n",
    "\n",
    "* Works only on UNIX-based OS\n",
    "\n",
    " * It is bothersome for majority of Windows computer users to have redundant LINUX computer for IRAF purpose, unless MS supports UNIX-like environment in the very near future.\n",
    "\n",
    "* CL has no debug functionality, so it is bad for large programming.\n",
    "\n",
    " * Each observatory needs its own software for data reduction. CL is not good for such purpose.\n",
    " \n",
    " * Actually, many different observatories makes their own routines with IDL, not CL, and distribute it to the observers.\n"
   ]
  },
  {
   "cell_type": "markdown",
   "metadata": {},
   "source": [
    "### Introduction of PyRAF and Its Problems\n",
    "PyRAF is an alternative, made of Python, for those problems of IRAF, especially to alleviate the complexity / debugging problem of CL. According to this [Link](http://iraf.net/forum/viewtopic.php?showtopic=97713&lastpost=true), the attempt to replace CL by Python has been ongoing in 1999. This [report](https://arxiv.org/abs/1610.03159) says such attempt for using Python started in 1998. Before 2000, when PyRAF was first being made, is the time when IRAF was not even a free software, so using totally-free Python is a very attractive trial. PyRAF works on Windows, too, though has many problems, since some functionalities are designed only for UNIX system *from the beginning*, and it is also clearly noted by STScI.\n",
    "\n",
    "This PyRAF has some problems, of course. First of all, **identical CL script gives different results in PyRAF for some cases**. This is implicitly explained in [PyRAF Tutorial](http://stsdas.stsci.edu/pyraf/doc.old/pyraf_tutorial/PythonPrereq.html), too: *\"You can even run more than 90% of IRAF CL scripts!\" (in PyRAF)*. In different perspective, it means ~ 10% of CL scripts does not work identically compared to that of IRAF. So if you have CL scripts you made when you were using IRAF, you wouldn't want to take risks of using PyRAF. You don't know which part will give different result from the original IRAF! No warning system of indicating the difference between IRAF and PyRAF is developed, so you have to run the script on IRAF and check whether it works correctly on PyRAF, which is just bothersome and inefficient.\n",
    "\n",
    "Other than that, PyRAF was made in Python 2, which means it may have unknown problem in the future (because of the backward-incompatible Python 3). Even if we clearly picked the bug, there is no much budget and humanpower to correct it now. Also, unlike many other Python packages, it has no firm manual, which makes it difficult to start and use efficiently. You wouldn't want to move to PyRAF, which doesn't seem to be *much* better than CL scripting. One of the important issues of PyRAF is the same as that of IRAF: No big update will be made in the near future, though we have many known bugs. It is difficult to manually check how much budget and human resources are being used for PyRAF, but you can compare the frequency of update of PyRAF and Astropy. Although PyRAF is being updated with certain period, we are not sure how long will it be maintained. Lim Pey-Lian, at Science Software Branch of STScI, replied to me via the official help email account that :\n",
    "\n",
    "\"We are phasing out our IRAF support. Could you please try out photutils, a Python replacement for photometry tasks ...\" \n"
   ]
  },
  {
   "cell_type": "markdown",
   "metadata": {},
   "source": [
    "### Introduction of IDL and Its Problems\n",
    "These are logical reasons why many people seek for IRAF-alternatives. **One of such solutions is IDL**. Easier scripting, OS-independency, and the fact that is maintained by software experts made astronomers relieved and rely on this software. However, IDL also has some problems: The most important one is the **license issue**, and secondly the problem as a programming language (see [here](https://en.wikipedia.org/wiki/IDL_(programming_language)#Problems)). Also it is extremely slow in plotting graphs, especially 3-D plotting, because it is a procedural programming language. Another important issue is that it is used by very minor groups of people, astronomy and bio-imaging, so there is not many structured manuals we can access.\n",
    "\n",
    "License is very critical for users, not only because its price (~ $1,000), but because you have to purchase license at **each time** when there is an update. You cannot use IDL 8.1 even if you have license of IDL 8.0. Institutions will be burdened with this, since many researchers should use the software, and the amount of required budget will go up almost linearly. If the institution does not support lisence fee, the compatibility problem arises: Say you have source code written in IDL 8, but the institution has license of IDL 7 only. Nevertheless, it is widely being used at observatories and institutions, due to its convenience for scripting compared to IRAF.\n",
    "\n",
    "The following is some examples of IRAF and IDL usage:\n",
    "\n",
    "* NASA IRTF: You will get IDL source codes to analyze SpeX (spectroscopy observation instrument) from IRTF.\n",
    "* Nayoro Pirka, Japan: One of few cases of using IRAF. If you use MSI (multi spectroscopy imager), you will use MSIRED package, which are written fully in IRAF CL.\n",
    "* Subaru: If you used FOCAS of Subaru at Hawai'i, you will receive FOCASRED package, which you may use either IDL or IRAF (recommended to use both).\n"
   ]
  },
  {
   "cell_type": "markdown",
   "metadata": {},
   "source": [
    "### Python: An Alternative\n",
    "\n",
    "If you are a very smart persion, you can of course directly make a binary code (11000101011101000010101101...), and this will be the most efficient way. When I was an undergrad student at KAIST, there was this professor who taughte the Introduction to Programming course, which was mandatory, said \"I had a friend who believes it is the best way to make all the programs in binary from the beginning. But the thing is, not everyone is as smart as she does.\" The second best option might be using some low-level languages, such as C, or make appropriate modifications to pre-existing IRAF and make it much more efficient/faster. The thing is that, we have to think about the **vast majority of people who are not** that smart. This is because we do not have much room to lose such people who may serve important roles in the future of astronomy. Quite many scientists are also involved in that *vast majority*, and you can understand it via the fact that IRAF is still not optimized to modern computer resources, and some optimization algorithms (including parallel computing) are not implemended.\n",
    "\n",
    "Thus, the next option we may choose, are languages which have the following strong points:\n",
    "\n",
    "* Easy to learn and coding (scripting),\n",
    "* Reliable, since they are maintained, managed, stablized, and optimized by computer scientists/experts,\n",
    "* Have no license problem,\n",
    "* OS-independent,\n",
    "* Have good and enough amount of manual/examples,\n",
    "* Have enough number of useful packages in reliable manner,\n",
    "* And have many users so that faster feedback/Q&A can be made.\n",
    "* Additionally, languages which have potential of having connections with future languages, so that learning it can be investment to our future.\n",
    "\n",
    "** _Python is a language which satisfactorily meets all the above conditions_ **\n",
    "\n",
    "The first can be paraphrased as *a language that more people can participate/contribute*, and the second means *a language which are also being used by non-astronomers*. It is not easy for laymen to use CL, as it has no highlighting or syntax coloring functionality in any of IDE and has complicated manuals. For the third item, Python is completely free, installed by default to virtually all LINUX distributions, and thus no license issue can come to Python users. The fourth and fifth items are strong points of Python which most Python users would agree. If you use Anaconda or Git, you can manage and update packages even on Windows via shell script, and the Spyder IDE is provided by default. Python is well known to have well structured manuals.\n",
    "\n",
    "The sixth item means NumPy, SciPy, Matplotlib, and AstroPy, which we will learn throughout this course. They are specialized to majority of numerical calculations and graph plotting. Seventh item can be checked at web sites such as Stack Overflow. Tremendous amount of manual and Q&A database can be found, incomparable to IRAF, and also more diversity is there since non-astronomers also use it, unlike IDL.\n",
    "\n",
    "Finally, Julia, Jupyter, Markdown (this preface is also made from md), and many future softwares uses Python-like grammar or implement ways to use Python. Python is good for large-data analysis, too, which is the future of astronomy. The strong point of Python with Jupyter can be seen throughout this TA class. Although it is commercial, you can also find Python tools attached to Excel and make neat graphics without errors. We may need a long time to see Python fades out into past.\n",
    "\n",
    "Some astronomers dreamt for using Python for these reasons. That is now descending as Astropy Project. Astropy basically includes FITS file input and output, astronomical coordinate (WCS) transformation, calculation, constants and unit systems that are being used in astronomical society, tools for photometry and spectriscopy, tools for statistics which are widely being used in astronomical society, and cosmology-related calculation and transformation tools. Moreover, Ginga, which can be thought as IRAF IMEXAM + SAO ds9, and other packages are there under the name of \"Astropy Affiliated Packages\". You can easily manage versions of packages and update them using Anaconda, and it is extrememly easy to fix bugs compared to IRAF. Astropy itself also provides neat and clean examples and manuals.\n",
    "\n",
    "Additional benefits we may get from using Python is to learn how to be prepared for new future environment. Even if Python becomes deprecated and a new language becomes the new *standard* on some day, you who have learnt IRAF, IDL, and Python, can easily adopt to that new environment. On top of that, new future language can become easier than Python, but not the other way, your value will get higher in that era as you can cope with more languages.\n",
    "\n",
    "However, these do not mean Python has no problem. There are quite many packages which are not stable (no stable release), even though they are considered as \"widely used\" and \"working perfectly\". Core packages of Astropy works fairly well, but there are some [known issues](http://docs.astropy.org/en/stable/known_issues.html). Photometry and spectroscopy tools are still 0.x versions. Only photometry version (photutils) is considered as \"stable\" from [Astropy affiliate website](http://www.astropy.org/affiliated/).\n"
   ]
  },
  {
   "cell_type": "markdown",
   "metadata": {},
   "source": [
    "## Transformation into a New Curriculum and Possible Pitfalls\n",
    "\n",
    "I have briefly introduced why astronomers started using Python. You may have understood that it is at least worth considering the reformation of the structure of AO practice sessions, which had been using IRAF or IDL. The basic philosophy I am trying this new transformation is simple: The belief that education should let educatee to be prepared for their future, and this should be one of the primary goals of it.\n",
    "\n",
    "**I know that it may be comfortable and easy to teach IRAF as the TA.** But I wonder whether it really is an efficacious curriculum if students realize the existence/importance of Astropy *after* they become pre-researchers while school teaches IRAF only. Now that Computational Astronomy course of SNU changed its main programming language to Python from IDL, and I guess this will be a great opportunity to make flexible Python environment at SNU for future.\n",
    "\n",
    "One thing that scares me is the **possibility of a big gap between the generations who've learnt IRAF and AstroPy**. I cannot say it is like using photoplate after implementation of CCD, but it feels like. As an example, the terms used in Ginga is slightly different from that of ds9, so it's quite confusing if you are used to SAO ds9. Now my role, as a TA who's earning money from this work, is clear: While contributing to construct a new educational curricula which fits better to prepare for the future, yet I have to amalgamate the gap between generations to avoid excessive inefficiency and lose of humanpower in communications between those generations. It might be tough for young studnets because they should take the redundant burden with older generation in communication; but this kind of pain has been there when we transformed from cgs to SI unit system. The reason for the widely used cgs values in astronomical field seems to be due to the low weighting to the \"efficient communication with other fields of sciences\" factor, but I worry that this might have become a giant wall which isolates astronomical society. Some other critiques to this Python trial may be that this astropy, and even Python, will have become a *legacy of the past* somewhere in the near future. I do, however, worry much more about the severance between our generations and much younger generations in the future, if we choose not to give enough opportunity to experience the frontier of modern (computational/observational) astronomy, just because IRAF has been the \"historical standard\".\n",
    "\n",
    "My basic reason for this is that not all educatee are smart enough to find and \"experience\" of such things by themselves, as I am. If I didn't have personal antipathy toward observation course which I took right after I became a graduate student, I would never dare to find softwares other than IRAF. Not because of other reasons, but because I had had too much things to digest by myself at that time compared to my ability, so that I had no much mental space to think about other issues than coursework itself. I believe this kind of effort to help them with modern technology is inevitable to draw the maximum efficiency of students like me.\n",
    "\n",
    "It does not mean I will not deal with IRAF and SAO ds9: It is up to you to choose which one you use (IDL, IRAF, ds9, Astropy, ...), and I personally think that the knowledge on using IRAF is quite essential at least until next decade. This is because\n",
    "\n",
    "1. Many observatories still use IRAF as default. \n",
    "\n",
    " * you may see some computers at observatories which are prepared for those who want to primitively check the observed data using only IRAF). \n",
    "\n",
    "2. The importance of smoothness in communication between older and younger generations in this field.\n",
    "\n",
    "3. Historically important.\n",
    "\n",
    " * Even if we use computers for observation, some information on CCD and even photoplate can help us understand the reasons for certain calculation and processes.\n",
    " \n",
    "In short, it roots from the faith that **we should avoid radical discontinuity between generations**, while guaranteeing the freedom of choosing language/software. Also I have to keep in mind that the IRAF tutorial should not be a big burden for students who learns Python.\n",
    "\n",
    "The reason I am preparing this manual is not only because I believe that this new trial must not end as a one-time trial, but also continuous in time domain such that the transition from older to younger-fashioned way is smooth enough so not much social cost is spent in the future.\n",
    "\n",
    "Now the task left in front of me is to make this manual easy and simple with readability, yet contains enough information, so that next educatee and TA/instructor can be benefitted from it. **A new TA or educator in the future, who will take the holy responsibility of education, which is strict and priceless, must critically evaluate this new trial with long and tortuous consideration, investigation, and continuous effort. Then they should decide how they will write the new future in front of them.**\n",
    "\n",
    "Even though the students took this course might become the sole isolated people using astropy, this manual should totally be abandoned if an unassailable disadvantage, inefficiency, or problems are found from this curriculum. That is totally my fault, who will have been the former TA, and that is the reason why I cannot skip the lectures on practicing IRAF and SAO ds9. If that unfavorable situation occurs, then we have to go back to the previous IRAF/ds9 + IDL curriculum. For it not to be that way, my effort to clarify whether it is a reasonable trial worth doing is the most important.\n",
    "\n",
    "I will do my very best for this course to be remembered as a part of your \"good memory\" during this year. If it turned out that it's not, then it totally is my fault, and I beg your cool-headed critics and feedbacks.\n",
    "\n",
    "\n",
    "At 19-dong of SNU,\n",
    "\n",
    "On the verge of a winter,\n",
    "\n",
    "Yoonsoo P. Bach\n"
   ]
  },
  {
   "cell_type": "code",
   "execution_count": null,
   "metadata": {
    "collapsed": true
   },
   "outputs": [],
   "source": []
  }
 ],
 "metadata": {
  "kernelspec": {
   "display_name": "Python 3",
   "language": "python",
   "name": "python3"
  },
  "language_info": {
   "codemirror_mode": {
    "name": "ipython",
    "version": 3
   },
   "file_extension": ".py",
   "mimetype": "text/x-python",
   "name": "python",
   "nbconvert_exporter": "python",
   "pygments_lexer": "ipython3",
   "version": "3.6.0"
  }
 },
 "nbformat": 4,
 "nbformat_minor": 2
}
