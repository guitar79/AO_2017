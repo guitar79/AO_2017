{
 "cells": [
  {
   "cell_type": "markdown",
   "metadata": {},
   "source": [
    "# Useful Functionalities Similar to IRAF\n",
    "Since Astropy is not a successor of IRAF, you may not easily find some useful functionalites in astropy-related packages, which were just a \"basic\" set of IRAF functions. These include `IMCOMBINE` with the option `offset=wcs`.\n"
   ]
  },
  {
   "cell_type": "markdown",
   "metadata": {},
   "source": [
    "### Image Combine\n",
    "\n",
    "In `ccdproc`, there is a functionality to combine images, such as function `combine`. You can also do the `combiner` as in the example of [a section in `ccdproc` official manual](http://ccdproc.readthedocs.io/en/latest/ccdproc/image_combination.html). A more friendly way of expressing this is:\n",
    "```python\n",
    "ccd1 = CCDData.read('fits/fits1.fits', unit='adu')\n",
    "ccd2 = CCDData.read('fits/fits2.fits', unit='adu')\n",
    "ccd3 = CCDData.read('fits/fits3.fits', unit='adu')\n",
    "comb = Combiner([ccd1, ccd2, ccd3])\n",
    "```\n",
    "The median/average/etc combine can be done as in the manual, and the clipped mask array can also be generated (see the manual). One thing to stress is the \"WCS offset combination\", which is `imcombine img1 img2 output=img_comb offset=wcs` in IRAF:\n",
    "\n",
    "```python\n",
    "from ccdproc import wcs_project\n",
    "from astropy.wcs import WCS\n",
    "wcs_origin = WCS(ccd1.header)\n",
    "reprojected = []\n",
    "for img in my_list_of_images:\n",
    "    new_image = wcs_project(img, target_wcs)\n",
    "    reprojected.append(new_image)\n"
   ]
  }
 ],
 "metadata": {
  "kernelspec": {
   "display_name": "Python 3",
   "language": "python",
   "name": "python3"
  },
  "language_info": {
   "codemirror_mode": {
    "name": "ipython",
    "version": 3
   },
   "file_extension": ".py",
   "mimetype": "text/x-python",
   "name": "python",
   "nbconvert_exporter": "python",
   "pygments_lexer": "ipython3",
   "version": "3.6.1"
  }
 },
 "nbformat": 4,
 "nbformat_minor": 2
}
