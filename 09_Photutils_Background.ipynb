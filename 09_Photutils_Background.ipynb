{
 "cells": [
  {
   "cell_type": "markdown",
   "metadata": {},
   "source": [
    "In this tutorial, I will demonstrate the usage of SExtractor background estimation. SExtractor has difficult algorithm and requires more computation time than usual annulus sky estimation, but is convenient in Python, so let me first demonstrate SExtractor sky (background) estimation.\n",
    "\n"
   ]
  },
  {
   "cell_type": "code",
   "execution_count": 4,
   "metadata": {},
   "outputs": [
    {
     "ename": "TypeError",
     "evalue": "'numpy.float64' object cannot be interpreted as an integer",
     "output_type": "error",
     "traceback": [
      "\u001b[0;31m---------------------------------------------------------------------------\u001b[0m",
      "\u001b[0;31mTypeError\u001b[0m                                 Traceback (most recent call last)",
      "\u001b[0;32m<ipython-input-4-d8e16a52106d>\u001b[0m in \u001b[0;36m<module>\u001b[0;34m()\u001b[0m\n\u001b[1;32m     14\u001b[0m \u001b[0;34m\u001b[0m\u001b[0m\n\u001b[1;32m     15\u001b[0m bkg_med = Background2D(img, box, filter_size=filt,\n\u001b[0;32m---> 16\u001b[0;31m                    sigma_clip=sigma_clip, bkg_estimator=bkg_est_med)\n\u001b[0m\u001b[1;32m     17\u001b[0m bkg_sex = Background2D(img, box, filter_size=filt,\n\u001b[1;32m     18\u001b[0m                    sigma_clip=sigma_clip, bkg_estimator=bkg_est_sex)\n",
      "\u001b[0;32m/home/aaa/anaconda3/lib/python3.6/site-packages/photutils/background/background_2d.py\u001b[0m in \u001b[0;36m__init__\u001b[0;34m(self, data, box_size, mask, exclude_mesh_method, exclude_mesh_percentile, filter_size, filter_threshold, edge_method, sigma_clip, bkg_estimator, bkgrms_estimator, interpolator)\u001b[0m\n\u001b[1;32m    334\u001b[0m \u001b[0;34m\u001b[0m\u001b[0m\n\u001b[1;32m    335\u001b[0m         \u001b[0mself\u001b[0m\u001b[0;34m.\u001b[0m\u001b[0m_prepare_data\u001b[0m\u001b[0;34m(\u001b[0m\u001b[0;34m)\u001b[0m\u001b[0;34m\u001b[0m\u001b[0m\n\u001b[0;32m--> 336\u001b[0;31m         \u001b[0mself\u001b[0m\u001b[0;34m.\u001b[0m\u001b[0m_calc_bkg_bkgrms\u001b[0m\u001b[0;34m(\u001b[0m\u001b[0;34m)\u001b[0m\u001b[0;34m\u001b[0m\u001b[0m\n\u001b[0m\u001b[1;32m    337\u001b[0m         \u001b[0mself\u001b[0m\u001b[0;34m.\u001b[0m\u001b[0m_calc_coordinates\u001b[0m\u001b[0;34m(\u001b[0m\u001b[0;34m)\u001b[0m\u001b[0;34m\u001b[0m\u001b[0m\n\u001b[1;32m    338\u001b[0m \u001b[0;34m\u001b[0m\u001b[0m\n",
      "\u001b[0;32m/home/aaa/anaconda3/lib/python3.6/site-packages/photutils/background/background_2d.py\u001b[0m in \u001b[0;36m_calc_bkg_bkgrms\u001b[0;34m(self)\u001b[0m\n\u001b[1;32m    698\u001b[0m         \u001b[0;31m# filter the 2D mesh arrays\u001b[0m\u001b[0;34m\u001b[0m\u001b[0;34m\u001b[0m\u001b[0m\n\u001b[1;32m    699\u001b[0m         \u001b[0;32mif\u001b[0m \u001b[0;32mnot\u001b[0m \u001b[0mnp\u001b[0m\u001b[0;34m.\u001b[0m\u001b[0marray_equal\u001b[0m\u001b[0;34m(\u001b[0m\u001b[0mself\u001b[0m\u001b[0;34m.\u001b[0m\u001b[0mfilter_size\u001b[0m\u001b[0;34m,\u001b[0m \u001b[0;34m[\u001b[0m\u001b[0;36m1\u001b[0m\u001b[0;34m,\u001b[0m \u001b[0;36m1\u001b[0m\u001b[0;34m]\u001b[0m\u001b[0;34m)\u001b[0m\u001b[0;34m:\u001b[0m\u001b[0;34m\u001b[0m\u001b[0m\n\u001b[0;32m--> 700\u001b[0;31m             \u001b[0mself\u001b[0m\u001b[0;34m.\u001b[0m\u001b[0m_filter_meshes\u001b[0m\u001b[0;34m(\u001b[0m\u001b[0;34m)\u001b[0m\u001b[0;34m\u001b[0m\u001b[0m\n\u001b[0m\u001b[1;32m    701\u001b[0m \u001b[0;34m\u001b[0m\u001b[0m\n\u001b[1;32m    702\u001b[0m         \u001b[0;32mreturn\u001b[0m\u001b[0;34m\u001b[0m\u001b[0m\n",
      "\u001b[0;32m/home/aaa/anaconda3/lib/python3.6/site-packages/photutils/background/background_2d.py\u001b[0m in \u001b[0;36m_filter_meshes\u001b[0;34m(self)\u001b[0m\n\u001b[1;32m    643\u001b[0m             self.background_mesh = generic_filter(\n\u001b[1;32m    644\u001b[0m                 \u001b[0mself\u001b[0m\u001b[0;34m.\u001b[0m\u001b[0mbackground_mesh\u001b[0m\u001b[0;34m,\u001b[0m \u001b[0mnanmedian_func\u001b[0m\u001b[0;34m,\u001b[0m \u001b[0msize\u001b[0m\u001b[0;34m=\u001b[0m\u001b[0mself\u001b[0m\u001b[0;34m.\u001b[0m\u001b[0mfilter_size\u001b[0m\u001b[0;34m,\u001b[0m\u001b[0;34m\u001b[0m\u001b[0m\n\u001b[0;32m--> 645\u001b[0;31m                 mode='constant', cval=np.nan)\n\u001b[0m\u001b[1;32m    646\u001b[0m             self.background_rms_mesh = generic_filter(\n\u001b[1;32m    647\u001b[0m                 \u001b[0mself\u001b[0m\u001b[0;34m.\u001b[0m\u001b[0mbackground_rms_mesh\u001b[0m\u001b[0;34m,\u001b[0m \u001b[0mnanmedian_func\u001b[0m\u001b[0;34m,\u001b[0m\u001b[0;34m\u001b[0m\u001b[0m\n",
      "\u001b[0;32m/home/aaa/anaconda3/lib/python3.6/site-packages/scipy/ndimage/filters.py\u001b[0m in \u001b[0;36mgeneric_filter\u001b[0;34m(input, function, size, footprint, output, mode, cval, origin, extra_arguments, extra_keywords)\u001b[0m\n\u001b[1;32m   1469\u001b[0m             \u001b[0;32mraise\u001b[0m \u001b[0mRuntimeError\u001b[0m\u001b[0;34m(\u001b[0m\u001b[0;34m\"no footprint or filter size provided\"\u001b[0m\u001b[0;34m)\u001b[0m\u001b[0;34m\u001b[0m\u001b[0m\n\u001b[1;32m   1470\u001b[0m         \u001b[0msizes\u001b[0m \u001b[0;34m=\u001b[0m \u001b[0m_ni_support\u001b[0m\u001b[0;34m.\u001b[0m\u001b[0m_normalize_sequence\u001b[0m\u001b[0;34m(\u001b[0m\u001b[0msize\u001b[0m\u001b[0;34m,\u001b[0m \u001b[0minput\u001b[0m\u001b[0;34m.\u001b[0m\u001b[0mndim\u001b[0m\u001b[0;34m)\u001b[0m\u001b[0;34m\u001b[0m\u001b[0m\n\u001b[0;32m-> 1471\u001b[0;31m         \u001b[0mfootprint\u001b[0m \u001b[0;34m=\u001b[0m \u001b[0mnumpy\u001b[0m\u001b[0;34m.\u001b[0m\u001b[0mones\u001b[0m\u001b[0;34m(\u001b[0m\u001b[0msizes\u001b[0m\u001b[0;34m,\u001b[0m \u001b[0mdtype\u001b[0m\u001b[0;34m=\u001b[0m\u001b[0mbool\u001b[0m\u001b[0;34m)\u001b[0m\u001b[0;34m\u001b[0m\u001b[0m\n\u001b[0m\u001b[1;32m   1472\u001b[0m     \u001b[0;32melse\u001b[0m\u001b[0;34m:\u001b[0m\u001b[0;34m\u001b[0m\u001b[0m\n\u001b[1;32m   1473\u001b[0m         \u001b[0mfootprint\u001b[0m \u001b[0;34m=\u001b[0m \u001b[0mnumpy\u001b[0m\u001b[0;34m.\u001b[0m\u001b[0masarray\u001b[0m\u001b[0;34m(\u001b[0m\u001b[0mfootprint\u001b[0m\u001b[0;34m)\u001b[0m\u001b[0;34m\u001b[0m\u001b[0m\n",
      "\u001b[0;32m/home/aaa/anaconda3/lib/python3.6/site-packages/numpy/core/numeric.py\u001b[0m in \u001b[0;36mones\u001b[0;34m(shape, dtype, order)\u001b[0m\n\u001b[1;32m    190\u001b[0m \u001b[0;34m\u001b[0m\u001b[0m\n\u001b[1;32m    191\u001b[0m     \"\"\"\n\u001b[0;32m--> 192\u001b[0;31m     \u001b[0ma\u001b[0m \u001b[0;34m=\u001b[0m \u001b[0mempty\u001b[0m\u001b[0;34m(\u001b[0m\u001b[0mshape\u001b[0m\u001b[0;34m,\u001b[0m \u001b[0mdtype\u001b[0m\u001b[0;34m,\u001b[0m \u001b[0morder\u001b[0m\u001b[0;34m)\u001b[0m\u001b[0;34m\u001b[0m\u001b[0m\n\u001b[0m\u001b[1;32m    193\u001b[0m     \u001b[0mmultiarray\u001b[0m\u001b[0;34m.\u001b[0m\u001b[0mcopyto\u001b[0m\u001b[0;34m(\u001b[0m\u001b[0ma\u001b[0m\u001b[0;34m,\u001b[0m \u001b[0;36m1\u001b[0m\u001b[0;34m,\u001b[0m \u001b[0mcasting\u001b[0m\u001b[0;34m=\u001b[0m\u001b[0;34m'unsafe'\u001b[0m\u001b[0;34m)\u001b[0m\u001b[0;34m\u001b[0m\u001b[0m\n\u001b[1;32m    194\u001b[0m     \u001b[0;32mreturn\u001b[0m \u001b[0ma\u001b[0m\u001b[0;34m\u001b[0m\u001b[0m\n",
      "\u001b[0;31mTypeError\u001b[0m: 'numpy.float64' object cannot be interpreted as an integer"
     ]
    }
   ],
   "source": [
    "from photutils import Background2D, SigmaClip, MedianBackground, SExtractorBackground\n",
    "from astropy.io import fits\n",
    "import numpy as np\n",
    "hdu = fits.open('HST_Tutorial/M13.fits')\n",
    "img = hdu[0].data[900:1200, 900:1200]\n",
    "FWHM = 2.5\n",
    "\n",
    "box = np.array((50, 50)).astype(int)\n",
    "filt = (2*FWHM, 2*FWHM)\n",
    "sigma_clip = SigmaClip(sigma=3., iters=10)\n",
    "\n",
    "bkg_est_med = MedianBackground()\n",
    "bkg_est_sex = SExtractorBackground()\n",
    "\n",
    "bkg_med = Background2D(img, box, filter_size=filt,\n",
    "                   sigma_clip=sigma_clip, bkg_estimator=bkg_est_med)\n",
    "bkg_sex = Background2D(img, box, filter_size=filt,\n",
    "                   sigma_clip=sigma_clip, bkg_estimator=bkg_est_sex)\n",
    "bkg_diff = (bkg_med.background - bkg_sex.background)/bkg_sex.background * 100\n",
    "\n",
    "img_sex_diff = (img - bkg_sex.background)/img * 100\n",
    "\n",
    "print('method | bkg med   rms_med')\n",
    "print('-------+-----------------')\n",
    "print('median | {0:7.1f}  {1:7.1f}'.format(bkg_med.background_median, bkg_med.background_rms_median))\n",
    "print('sex    | {0:7.1f}  {1:7.1f}'.format(bkg_sex.background_median, bkg_sex.background_rms_median))\n",
    "\n",
    "\n",
    "fig = plt.figure(figsize=(10,10), dpi=80)\n",
    "\n",
    "ax1 = fig.add_subplot(221)\n",
    "ax2 = fig.add_subplot(222)\n",
    "ax3 = fig.add_subplot(223)\n",
    "ax4 = fig.add_subplot(224)\n",
    "\n",
    "plt.setp(ax1.get_xticklabels(), visible=False)\n",
    "plt.setp(ax2.get_xticklabels(), visible=False)\n",
    "plt.setp(ax2.get_yticklabels(), visible=False)\n",
    "plt.setp(ax4.get_yticklabels(), visible=False)\n",
    "plt.setp((ax1, ax2, ax3, ax4),\n",
    "         xlim=[0, 400], ylim=[0, 400],\n",
    "         xticks=np.arange(0, 401, 100),\n",
    "         yticks=np.arange(0, 401, 100))\n",
    "\n",
    "\n",
    "\n",
    "#ax1.set_xticks(np.array([0, 100, 200, 300, 400]))\n",
    "plt.suptitle('estimators used (50, 50) box with (2*FWHM, 2*FWHM) filter, 3-sigma clip (iter=10)', fontsize=16)\n",
    "im1 = ax1.imshow(bkg_sex.background, origin='lower', cmap='gray_r')\n",
    "im2 = ax2.imshow(bkg_med.background, origin='lower', cmap='gray_r')\n",
    "im3 = ax3.imshow(bkg_diff, origin='lower', cmap='gray_r')\n",
    "im4 = ax4.imshow(img_sex_diff, origin='lower', cmap='gray_r', vmin=10)\n",
    "ax1.set_title('sextractor estimator', fontsize=16, y=1.03)\n",
    "ax2.set_title('median estimator', fontsize=16, y=1.03)\n",
    "ax3.set_title('difference: (med - sex)/sex', fontsize=16, y=1.03)\n",
    "ax4.set_title('(img - sex)/img', fontsize=16, y=1.03)\n",
    "ax1.tick_params(labelsize=16)\n",
    "ax2.tick_params(labelsize=16)\n",
    "ax3.tick_params(labelsize=16)\n",
    "ax4.tick_params(labelsize=16)\n",
    "\n",
    "cbar_ax12 = fig.add_axes([0.95, 0.55, 0.01, 0.35]) # left, bottom, width, height\n",
    "cbar_ax3  = fig.add_axes([0.12, 0.08, 0.35, 0.01]) # left, bottom, width, height\n",
    "cbar_ax4  = fig.add_axes([0.95, 0.12, 0.01, 0.35]) # left, bottom, width, height\n",
    "fig.colorbar(im1, cax=cbar_ax12)\n",
    "fig.colorbar(im3, cax=cbar_ax3,\n",
    "             orientation='horizontal',\n",
    "             label='%')\n",
    "fig.colorbar(im4, cax=cbar_ax4,\n",
    "             extend='min',\n",
    "             label='% (if <10%, greenish)').cmap.set_under('green', alpha=0.5)\n",
    "# If (img-bkg)/img < 10%, the pixel is likely a meaningless background.\n",
    "plt.savefig('bkg_sex+med.png', bbox_inches='tight')\n",
    "plt.clf()\n",
    "\n",
    "fig = plt.figure(figsize=(10,10), dpi=80)\n",
    "\n",
    "plt.imshow(bkg_sex.background, origin='lower')\n",
    "bkg_sex.plot_meshes(outlines=True)\n",
    "plt.colorbar()\n"
   ]
  }
 ],
 "metadata": {
  "kernelspec": {
   "display_name": "Python 3",
   "language": "python",
   "name": "python3"
  },
  "language_info": {
   "codemirror_mode": {
    "name": "ipython",
    "version": 3
   },
   "file_extension": ".py",
   "mimetype": "text/x-python",
   "name": "python",
   "nbconvert_exporter": "python",
   "pygments_lexer": "ipython3",
   "version": "3.6.1"
  }
 },
 "nbformat": 4,
 "nbformat_minor": 2
}
