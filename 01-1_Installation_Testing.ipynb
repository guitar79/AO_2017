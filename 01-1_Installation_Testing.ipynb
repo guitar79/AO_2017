{
 "cells": [
  {
   "cell_type": "markdown",
   "metadata": {},
   "source": [
    "# Installation Testing\n",
    "\n",
    "This is a short appendix for testing the installation.\n",
    "\n",
    "Usually it is better to run the test packages to check whether the installations were being done correctly.\n",
    "\n",
    "Most likely `numpy`, `matplotlib`, and `scipy` will have no problems at all. So just test the followings:"
   ]
  },
  {
   "cell_type": "code",
   "execution_count": null,
   "metadata": {
    "collapsed": true
   },
   "outputs": [],
   "source": [
    "import photutils, astropy\n",
    "photutils.test()\n",
    "astropy.test()"
   ]
  },
  {
   "cell_type": "markdown",
   "metadata": {},
   "source": [
    "These will take quite long time, especially astropy takes very long time. (So I didn't show you the result above)\n",
    "\n",
    "You need to do it only once when you first installed these packages. \n",
    "\n",
    "If you want to test only some part of the whole package, you can specify the module, e.g., you can test `astropy.io.fits` by:\n",
    "\n",
    "    astropy.test(package='io.fits')\n",
    "\n",
    "While test is going on, look at the names of the directories, like `astropy/table`, `astropy/units`, etc. These are the names we will encounter very frequently, so this test is not only to **test**, but also to get accustomed to the astropy and python language.\n",
    "\n",
    "Each dot(`.`) means `test passed` and `x` means `test failed`. But some of the failures are just OK. `s` means it is skipped for some reason. \n",
    "\n",
    "I did tests for **Astropy 1.3.1 and Photutils 0.3.1** (took ~ 10 mins) and got the following messages:\n",
    "\n",
    "    (long long test explanations....)\n",
    "    ======================== 1056 passed, 2 skipped, 2 xfailed in 82.18 seconds ========================\n",
    "    (long long test explanations....)\n",
    "    Some tests are known to fail when run from the IPython prompt; especially, but not limited to tests involving logging and warning handling.  Unless you are certain as to the cause of the failure, please check that the failure occurs outside IPython as well.  See http://docs.astropy.org/en/stable/known_issues.html#failing-logging-tests-when-running-the-tests-in-ipython for more information.\n",
    "    == 24 failed, 8717 passed, 75 skipped, 42 xfailed, 1 xpassed, 2 pytest-warnings in 573.02 seconds ==\n",
    "\n"
   ]
  },
  {
   "cell_type": "markdown",
   "metadata": {},
   "source": [
    "There are some more to test, such as `ds9`, `ginga`, and any editor you will use (e.g., `spyder`, `vi`, ...). If any of these are not working, you need reinstallation or find some way to circumvent this potentially hazardous situation."
   ]
  },
  {
   "cell_type": "code",
   "execution_count": null,
   "metadata": {
    "collapsed": true
   },
   "outputs": [],
   "source": []
  }
 ],
 "metadata": {
  "kernelspec": {
   "display_name": "Python 3",
   "language": "python",
   "name": "python3"
  },
  "language_info": {
   "codemirror_mode": {
    "name": "ipython",
    "version": 3
   },
   "file_extension": ".py",
   "mimetype": "text/x-python",
   "name": "python",
   "nbconvert_exporter": "python",
   "pygments_lexer": "ipython3",
   "version": "3.6.0"
  }
 },
 "nbformat": 4,
 "nbformat_minor": 2
}
